{
 "cells": [
  {
   "cell_type": "code",
   "execution_count": null,
   "id": "initial_id",
   "metadata": {
    "collapsed": true
   },
   "outputs": [],
   "source": [
    ""
   ]
  },
  {
   "metadata": {},
   "cell_type": "code",
   "outputs": [],
   "execution_count": null,
   "source": [
    "import re\n",
    "\n",
    "# Helper function to break up words from a string\n",
    "def break_up_words(str):\n",
    "    return re.sub(r'[^\\w\\\\s]', '', str.lower()).split()\n",
    "\n",
    "break_up_words(\"Hello, this is a sentence I am trying to tokenize.\")"
   ],
   "id": "725bcf792ba86e8c"
  },
  {
   "metadata": {
    "ExecuteTime": {
     "end_time": "2025-08-14T19:55:52.578510Z",
     "start_time": "2025-08-14T19:55:52.575918Z"
    }
   },
   "cell_type": "code",
   "source": [
    "import re\n",
    "web_pattern = re.compile(r'(https?://)?(www\\.)?([a-z0-9]+)\\.(com,org,gov)')\n",
    "\n",
    "urls = \"\"\"\n",
    "Here are a few websites below:\n",
    "\n",
    "https://www.yawmanflight.com\n",
    "http://microsoft.com\n",
    "https://youtube.com\n",
    "https://www.anaconda.com\n",
    "\n",
    "These are non-commercial sites:\n",
    "https://www.python.org\n",
    "https://whitehouse.gov\n",
    "\"\"\"\n",
    "\n",
    "matches = web_pattern.finditer(urls)\n",
    "\n",
    "for match in matches:\n",
    "    print(match[0])"
   ],
   "id": "5b7c5ff804c62640",
   "outputs": [],
   "execution_count": 1
  },
  {
   "metadata": {},
   "cell_type": "markdown",
   "source": "Here is another example where I'm looking for IP addresses in a log. My coworker said this regular expression `([0-9]+[.][0-9.]+)+` should work but it seems to be capturing the `32.5` seconds.",
   "id": "d8e83d39fe862d1f"
  },
  {
   "metadata": {
    "ExecuteTime": {
     "end_time": "2025-08-14T21:15:08.203573Z",
     "start_time": "2025-08-14T21:15:08.201434Z"
    }
   },
   "cell_type": "code",
   "source": [
    "import re\n",
    "ip_addr_pattern = re.compile(r'([0-9]+[.][0-9.]+)+')\n",
    "\n",
    "log = \"\"\"\n",
    "[2025-08-14 02:15:34] INFO  JobScheduler - Starting nightly backup process\n",
    "[2025-08-14 02:15:35] INFO  Connection from 192.168.54.23 established\n",
    "[2025-08-14 02:15:35] INFO  Connection from 10.44.8.91 established\n",
    "[2025-08-14 02:15:36] INFO  Transferring data to backup node at 172.16.3.144\n",
    "[2025-08-14 02:15:42] WARN  Slow response from node 10.44.8.91 (32.5 seconds)\n",
    "[2025-08-14 02:15:49] INFO  Backup chunk 1/5 completed from 192.168.54.23\n",
    "[2025-08-14 02:15:53] INFO  Backup chunk 2/5 completed from 10.44.8.91\n",
    "[2025-08-14 02:15:57] ERROR Transfer failed to node 172.16.3.144: connection timeout\n",
    "[2025-08-14 02:16:03] INFO  Retrying transfer to node 172.16.3.144 (attempt 1)\n",
    "[2025-08-14 02:16:08] INFO  Transfer to node 172.16.3.144 successful\n",
    "[2025-08-14 02:16:15] INFO  Nightly backup process completed successfully\n",
    "\"\"\"\n",
    "\n",
    "matches = ip_addr_pattern.finditer(log)\n",
    "\n",
    "for match in matches:\n",
    "    print(match[0])"
   ],
   "id": "f63b91259262672e",
   "outputs": [
    {
     "name": "stdout",
     "output_type": "stream",
     "text": [
      "192.168.54.23\n",
      "10.44.8.91\n",
      "172.16.3.144\n",
      "10.44.8.91\n",
      "32.5\n",
      "192.168.54.23\n",
      "10.44.8.91\n",
      "172.16.3.144\n",
      "172.16.3.144\n",
      "172.16.3.144\n"
     ]
    }
   ],
   "execution_count": 19
  }
 ],
 "metadata": {
  "kernelspec": {
   "display_name": "Python 3",
   "language": "python",
   "name": "python3"
  },
  "language_info": {
   "codemirror_mode": {
    "name": "ipython",
    "version": 2
   },
   "file_extension": ".py",
   "mimetype": "text/x-python",
   "name": "python",
   "nbconvert_exporter": "python",
   "pygments_lexer": "ipython2",
   "version": "2.7.6"
  }
 },
 "nbformat": 4,
 "nbformat_minor": 5
}

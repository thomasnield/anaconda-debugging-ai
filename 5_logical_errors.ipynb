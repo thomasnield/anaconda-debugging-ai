{
 "cells": [
  {
   "cell_type": "markdown",
   "id": "3e5d030796acec8c",
   "metadata": {
    "collapsed": true,
    "jupyter": {
     "outputs_hidden": true
    }
   },
   "source": [
    "# Logical Errors"
   ]
  },
  {
   "cell_type": "markdown",
   "id": "351bdfe648f145df",
   "metadata": {},
   "source": [
    "Logical errors are issues where the code does not throw any exceptions, but there is something wrong with its outputs."
   ]
  },
  {
   "cell_type": "markdown",
   "id": "1e87b3cf878d6386",
   "metadata": {},
   "source": [
    "I thought pandas allowed declaring a list of values by column? Why is this not working as intended and the headers are getting their own row?"
   ]
  },
  {
   "cell_type": "code",
   "execution_count": 14,
   "id": "2aeaccbfdd4baa97",
   "metadata": {},
   "outputs": [
    {
     "data": {
      "text/html": [
       "<div>\n",
       "<style scoped>\n",
       "    .dataframe tbody tr th:only-of-type {\n",
       "        vertical-align: middle;\n",
       "    }\n",
       "\n",
       "    .dataframe tbody tr th {\n",
       "        vertical-align: top;\n",
       "    }\n",
       "\n",
       "    .dataframe thead th {\n",
       "        text-align: right;\n",
       "    }\n",
       "</style>\n",
       "<table border=\"1\" class=\"dataframe\">\n",
       "  <thead>\n",
       "    <tr style=\"text-align: right;\">\n",
       "      <th></th>\n",
       "      <th>0</th>\n",
       "      <th>1</th>\n",
       "      <th>2</th>\n",
       "      <th>3</th>\n",
       "    </tr>\n",
       "  </thead>\n",
       "  <tbody>\n",
       "    <tr>\n",
       "      <th>0</th>\n",
       "      <td>customer_id</td>\n",
       "      <td>1</td>\n",
       "      <td>2</td>\n",
       "      <td>3</td>\n",
       "    </tr>\n",
       "    <tr>\n",
       "      <th>1</th>\n",
       "      <td>name</td>\n",
       "      <td>Alice</td>\n",
       "      <td>Bob</td>\n",
       "      <td>Charlie</td>\n",
       "    </tr>\n",
       "    <tr>\n",
       "      <th>2</th>\n",
       "      <td>total_spent</td>\n",
       "      <td>150.0</td>\n",
       "      <td>None</td>\n",
       "      <td>300.5</td>\n",
       "    </tr>\n",
       "  </tbody>\n",
       "</table>\n",
       "</div>"
      ],
      "text/plain": [
       "             0      1     2        3\n",
       "0  customer_id      1     2        3\n",
       "1         name  Alice   Bob  Charlie\n",
       "2  total_spent  150.0  None    300.5"
      ]
     },
     "execution_count": 14,
     "metadata": {},
     "output_type": "execute_result"
    }
   ],
   "source": [
    "import pandas as pd\n",
    "\n",
    "data = [\n",
    "    [\"customer_id\", 1, 2, 3],\n",
    "    [\"name\", \"Alice\", \"Bob\", \"Charlie\"],\n",
    "    [\"total_spent\", 150.0, None, 300.5]\n",
    "]\n",
    "\n",
    "# Create DataFrame\n",
    "customers_df = pd.DataFrame(data)\n",
    "customers_df\n"
   ]
  },
  {
   "cell_type": "markdown",
   "id": "5b83d539bd3c769",
   "metadata": {},
   "source": [
    "## Troubleshooting a Monte Carlo Simulation"
   ]
  },
  {
   "cell_type": "code",
   "execution_count": null,
   "id": "37775cc588f8b6c0",
   "metadata": {},
   "outputs": [],
   "source": [
    "from random import randint, choice\n",
    "\n",
    "def random_door(): return randint(1, 3)\n",
    "\n",
    "trial_count = 10000\n",
    "\n",
    "stay_wins = 0\n",
    "switch_wins = 0\n",
    "\n",
    "for i in range(0, trial_count):\n",
    "    prize_door = random_door()\n",
    "    selected_door = random_door()\n",
    "    opened_door = choice([d for d in range(1, 4) if d != selected_door and d != prize_door])\n",
    "    switch_door = choice([d for d in range(1, 4) if d != opened_door])\n",
    "\n",
    "    if selected_door == prize_door:\n",
    "        stay_wins += 1\n",
    "\n",
    "    if switch_door == prize_door:\n",
    "        switch_wins += 1\n",
    "\n",
    "print(\"STAY WINS: {}, SWITCH WINS: {}\".format(\n",
    "    stay_wins, switch_wins))\n",
    "\n",
    "print(\"STAY WIN RATE: {}, SWITCH WIN RATE: {}\".format(\n",
    "    float(stay_wins)/float(trial_count), float(switch_wins)/float(trial_count)))"
   ]
  },
  {
   "cell_type": "markdown",
   "id": "d1210930e12434eb",
   "metadata": {},
   "source": [
    "## Some Misbehaving Regular Expressions"
   ]
  },
  {
   "cell_type": "markdown",
   "id": "851430533219b141",
   "metadata": {},
   "source": [
    "I'm trying to break up the words in a sentence, but it is only returning everything as one word?"
   ]
  },
  {
   "cell_type": "code",
   "execution_count": null,
   "id": "725bcf792ba86e8c",
   "metadata": {
    "ExecuteTime": {
     "end_time": "2025-08-16T20:43:29.937148Z",
     "start_time": "2025-08-16T20:43:29.933816Z"
    }
   },
   "outputs": [],
   "source": [
    "import re\n",
    "\n",
    "# Helper function to break up words from a string\n",
    "def break_up_words(str):\n",
    "    return re.sub(r'[^\\w\\\\s]', '', str.lower()).split()\n",
    "\n",
    "break_up_words(\"Hello, this is a sentence I am trying to tokenize.\")"
   ]
  },
  {
   "cell_type": "markdown",
   "id": "d7afde47e340ecd",
   "metadata": {},
   "source": [
    "I am trying to extract all websites from a doucment but I am not getting any matches."
   ]
  },
  {
   "cell_type": "code",
   "execution_count": null,
   "id": "5b7c5ff804c62640",
   "metadata": {
    "ExecuteTime": {
     "end_time": "2025-08-16T20:44:10.978874Z",
     "start_time": "2025-08-16T20:44:10.976075Z"
    }
   },
   "outputs": [],
   "source": [
    "import re\n",
    "web_pattern = re.compile(r'(https?://)?(www\\.)?([a-z0-9]+)\\.(com,org,gov)')\n",
    "\n",
    "urls = \"\"\"\n",
    "Here are a few websites below:\n",
    "\n",
    "https://www.yawmanflight.com\n",
    "http://microsoft.com\n",
    "https://youtube.com\n",
    "https://www.anaconda.com\n",
    "\n",
    "These are non-commercial sites:\n",
    "https://www.python.org\n",
    "https://whitehouse.gov\n",
    "\"\"\"\n",
    "\n",
    "matches = web_pattern.finditer(urls)\n",
    "\n",
    "for match in matches:\n",
    "    print(match[0])"
   ]
  },
  {
   "cell_type": "markdown",
   "id": "d8e83d39fe862d1f",
   "metadata": {},
   "source": [
    "Here is another example where I'm looking for IP addresses in a log. My coworker said this regular expression `([0-9]+[.][0-9.]+)+` should work but it seems to be capturing the `32.5` seconds."
   ]
  },
  {
   "cell_type": "code",
   "execution_count": null,
   "id": "f63b91259262672e",
   "metadata": {},
   "outputs": [],
   "source": [
    "import re\n",
    "ip_addr_pattern = re.compile(r'([0-9]+[.][0-9.]+)+')\n",
    "\n",
    "log = \"\"\"\n",
    "[2025-08-14 02:15:34] INFO  JobScheduler - Starting nightly backup process\n",
    "[2025-08-14 02:15:35] INFO  Connection from 192.168.54.23 established\n",
    "[2025-08-14 02:15:35] INFO  Connection from 10.44.8.91 established\n",
    "[2025-08-14 02:15:36] INFO  Transferring data to backup node at 172.16.3.144\n",
    "[2025-08-14 02:15:42] WARN  Slow response from node 10.44.8.91 (32.5 seconds)\n",
    "[2025-08-14 02:15:49] INFO  Backup chunk 1/5 completed from 192.168.54.23\n",
    "[2025-08-14 02:15:53] INFO  Backup chunk 2/5 completed from 10.44.8.91\n",
    "[2025-08-14 02:15:57] ERROR Transfer failed to node 172.16.3.144: connection timeout\n",
    "[2025-08-14 02:16:03] INFO  Retrying transfer to node 172.16.3.144 (attempt 1)\n",
    "[2025-08-14 02:16:08] INFO  Transfer to node 172.16.3.144 successful\n",
    "[2025-08-14 02:16:15] INFO  Nightly backup process completed successfully\n",
    "\"\"\"\n",
    "\n",
    "matches = ip_addr_pattern.finditer(log)\n",
    "\n",
    "for match in matches:\n",
    "    print(match[0])"
   ]
  },
  {
   "cell_type": "markdown",
   "id": "47699a18e773a64c",
   "metadata": {},
   "source": [
    "## Misbehaving SQL"
   ]
  },
  {
   "cell_type": "markdown",
   "id": "722b0efedda34c3",
   "metadata": {},
   "source": [
    "Let's set up a database connection."
   ]
  },
  {
   "cell_type": "code",
   "execution_count": null,
   "id": "67257b39430fd3da",
   "metadata": {
    "ExecuteTime": {
     "end_time": "2025-08-17T13:43:56.491560Z",
     "start_time": "2025-08-17T13:43:55.788092Z"
    }
   },
   "outputs": [],
   "source": [
    "import requests\n",
    "import pandas as pd\n",
    "import sqlite3\n",
    "\n",
    "open(\"company_operations.db\", \"wb\") \\\n",
    "    .write(requests.get(\"https://github.com/thomasnield/anaconda_intro_to_sql/raw/refs/heads/main/company_operations.db\").content)\n",
    "\n",
    "conn = sqlite3.connect(\"company_operations.db\")"
   ]
  },
  {
   "cell_type": "markdown",
   "id": "e6985039cb17045",
   "metadata": {},
   "source": [
    "Here is an example I messed up just coming up with the next example XD. Can you spot it?"
   ]
  },
  {
   "cell_type": "code",
   "execution_count": null,
   "id": "ecde09f8578b09e9",
   "metadata": {
    "ExecuteTime": {
     "end_time": "2025-08-17T13:47:32.836594Z",
     "start_time": "2025-08-17T13:47:32.831181Z"
    }
   },
   "outputs": [],
   "source": [
    "sql = \"\"\"\n",
    "SELECT 'ORDER_DATE'\n",
    "FROM CUSTOMER_ORDER\n",
    "\"\"\"\n",
    "\n",
    "pd.read_sql(sql, conn)\n"
   ]
  },
  {
   "cell_type": "markdown",
   "id": "a31b79f54ff08c47",
   "metadata": {},
   "source": [
    "Next, why is my D/M/Y format for my date messed up?"
   ]
  },
  {
   "cell_type": "code",
   "execution_count": null,
   "id": "676b7d5c99ce9090",
   "metadata": {
    "ExecuteTime": {
     "end_time": "2025-08-17T13:45:15.263340Z",
     "start_time": "2025-08-17T13:45:15.257371Z"
    }
   },
   "outputs": [],
   "source": [
    "sql = \"\"\"\n",
    "SELECT CUSTOMER_ORDER_ID, ORDER_DATE, strftime('%d/%M/%Y', ORDER_DATE) AS FORMATTED_DATE\n",
    "FROM CUSTOMER_ORDER\n",
    "\"\"\"\n",
    "\n",
    "pd.read_sql(sql, conn)\n"
   ]
  },
  {
   "cell_type": "markdown",
   "id": "d9d9962da500b85b",
   "metadata": {},
   "source": [
    "I am a little confused why \"Alpha Medical\" with a CUSTOMER_ID of 1 is not showing up in this query. Maybe AI can help me out, even if it does not have access to the dataset itself?"
   ]
  },
  {
   "cell_type": "code",
   "execution_count": null,
   "id": "9670afb565968130",
   "metadata": {
    "ExecuteTime": {
     "end_time": "2025-08-16T20:30:45.549423Z",
     "start_time": "2025-08-16T20:30:45.541454Z"
    }
   },
   "outputs": [],
   "source": [
    "sql = \"\"\"\n",
    "SELECT\n",
    "CUSTOMER_ORDER_ID,\n",
    "CUSTOMER.CUSTOMER_ID,\n",
    "CUSTOMER_NAME,\n",
    "ADDRESS,\n",
    "CITY,\n",
    "STATE,\n",
    "ZIP,\n",
    "ORDER_DATE,\n",
    "PRODUCT_ID,\n",
    "QUANTITY\n",
    "\n",
    "FROM CUSTOMER, CUSTOMER_ORDER\n",
    "WHERE CUSTOMER.CUSTOMER_ID = CUSTOMER_ORDER.CUSTOMER_ID\n",
    "ORDER BY CUSTOMER.CUSTOMER_ID\n",
    "\"\"\"\n",
    "\n",
    "pd.read_sql(sql, conn)"
   ]
  },
  {
   "cell_type": "markdown",
   "id": "8d68bf40ece933ac",
   "metadata": {},
   "source": [
    "Okay, let's now bring in the `PRODUCT` information too. Oh no, why are the records missing again?"
   ]
  },
  {
   "cell_type": "code",
   "execution_count": null,
   "id": "a218a879c559f7b7",
   "metadata": {
    "ExecuteTime": {
     "end_time": "2025-08-16T20:35:23.055626Z",
     "start_time": "2025-08-16T20:35:23.048720Z"
    }
   },
   "outputs": [],
   "source": [
    "sql = \"\"\"\n",
    "SELECT\n",
    "CUSTOMER_ORDER_ID,\n",
    "CUSTOMER.CUSTOMER_ID,\n",
    "CUSTOMER_NAME,\n",
    "ADDRESS,\n",
    "CITY,\n",
    "STATE,\n",
    "ZIP,\n",
    "ORDER_DATE,\n",
    "PRODUCT.PRODUCT_ID,\n",
    "QUANTITY,\n",
    "PRICE\n",
    "\n",
    "FROM CUSTOMER LEFT JOIN CUSTOMER_ORDER\n",
    "ON CUSTOMER.CUSTOMER_ID = CUSTOMER_ORDER.CUSTOMER_ID\n",
    "\n",
    "INNER JOIN PRODUCT\n",
    "ON PRODUCT.PRODUCT_ID = CUSTOMER_ORDER.PRODUCT_ID\n",
    "ORDER BY CUSTOMER.CUSTOMER_ID\n",
    "\"\"\"\n",
    "\n",
    "pd.read_sql(sql, conn)"
   ]
  },
  {
   "cell_type": "markdown",
   "id": "bc99bde5b1262a83",
   "metadata": {},
   "source": [
    "Okay, one last thing I need to figure out. I'm aggregating the total revenue by customer. But why am I only getting a single record back? Ironically, this time it is only \"Alpha Medical\"? Help me out here, AI assist!"
   ]
  },
  {
   "cell_type": "code",
   "execution_count": null,
   "id": "9dd2f10153a7b624",
   "metadata": {
    "ExecuteTime": {
     "end_time": "2025-08-16T20:40:37.599758Z",
     "start_time": "2025-08-16T20:40:37.593319Z"
    },
    "scrolled": true
   },
   "outputs": [],
   "source": [
    "sql = \"\"\"\n",
    "SELECT\n",
    "CUSTOMER.CUSTOMER_ID,\n",
    "CUSTOMER_NAME,\n",
    "SUM(PRICE * QUANTITY) AS TOTAL_REVENUE\n",
    "\n",
    "FROM CUSTOMER LEFT JOIN CUSTOMER_ORDER\n",
    "ON CUSTOMER.CUSTOMER_ID = CUSTOMER_ORDER.CUSTOMER_ID\n",
    "\n",
    "LEFT JOIN PRODUCT\n",
    "ON PRODUCT.PRODUCT_ID = CUSTOMER_ORDER.PRODUCT_ID\n",
    "\"\"\"\n",
    "\n",
    "pd.read_sql(sql, conn)"
   ]
  },
  {
   "cell_type": "markdown",
   "id": "2d307d95-7ce4-4309-bd57-91643325db12",
   "metadata": {},
   "source": [
    "## EXERCISE\n",
    "\n",
    "Try to investigate (with the help of an AI assistant) why SQLite is not producing yesterday's date below. "
   ]
  },
  {
   "cell_type": "code",
   "execution_count": null,
   "id": "7926a7f1-3397-432a-9668-20afd819744f",
   "metadata": {},
   "outputs": [],
   "source": [
    "sql = \"\"\"\n",
    "SELECT DATE('now') - 1 AS YESTERDAY\n",
    "\"\"\"\n",
    "\n",
    "pd.read_sql(sql, conn)\n"
   ]
  }
 ],
 "metadata": {
  "kernelspec": {
   "display_name": "anaconda-2024.02-py310",
   "language": "python",
   "name": "conda-env-anaconda-2024.02-py310-py"
  },
  "language_info": {
   "codemirror_mode": {
    "name": "ipython",
    "version": 3
   },
   "file_extension": ".py",
   "mimetype": "text/x-python",
   "name": "python",
   "nbconvert_exporter": "python",
   "pygments_lexer": "ipython3",
   "version": "3.10.14"
  }
 },
 "nbformat": 4,
 "nbformat_minor": 5
}

{
 "cells": [
  {
   "metadata": {
    "collapsed": true
   },
   "cell_type": "markdown",
   "source": "# Security Troubleshooting",
   "id": "1777b059eb8df106"
  },
  {
   "metadata": {},
   "cell_type": "markdown",
   "source": "I have some code I want to put into production. It looks something like below. Let's review the code, and then have AI to take a look to see if it's secure.",
   "id": "df4c58d8a5e492fb"
  },
  {
   "metadata": {},
   "cell_type": "markdown",
   "source": "I read somewhere online you can execute Python code in a string using an `eval()` function. Let's make a simple command line calculator. But what can go wrong?",
   "id": "2a66b1deff8e4"
  },
  {
   "metadata": {},
   "cell_type": "code",
   "source": [
    "def calculate_expression(user_input):\n",
    "    # Allows users to input a mathematical expression\n",
    "    result = eval(user_input)\n",
    "    return result\n",
    "\n",
    "# Example usage\n",
    "expression = input(\"Enter a math expression (e.g., 2 + 2): \")\n",
    "print(\"Result:\", calculate_expression(expression))"
   ],
   "id": "5423af14a56fa908",
   "outputs": [],
   "execution_count": null
  },
  {
   "metadata": {},
   "cell_type": "markdown",
   "source": [
    "Turns out executing arbitrary Python code from a user input is not the best idea.\n",
    "\n",
    "Let's look at this SQLite example. Nothing to see here, folks! But let's see if the AI highlights some problems."
   ],
   "id": "5b5fd1c0b23ec435"
  },
  {
   "metadata": {},
   "cell_type": "code",
   "source": [
    "import sqlite3\n",
    "import requests\n",
    "\n",
    "open(\"company_operations.db\", \"wb\") \\\n",
    "    .write(requests.get(\"https://github.com/thomasnield/anaconda_intro_to_sql/raw/refs/heads/main/company_operations.db\").content)\n",
    "\n",
    "conn = sqlite3.connect(\"company_operations.db\")\n",
    "customer_id = input(\"Enter customer ID: \")\n",
    "\n",
    "sql = f\"SELECT * FROM CUSTOMER WHERE CUSTOMER_ID = {customer_id}\"\n",
    "\n",
    "cursor = conn.cursor()\n",
    "cursor.execute(sql)\n",
    "\n",
    "customer = cursor.fetchall()\n",
    "print(customer)\n",
    "cursor.close()"
   ],
   "id": "b05461b35c2114a5",
   "outputs": [],
   "execution_count": null
  },
  {
   "metadata": {},
   "cell_type": "markdown",
   "source": "Well that's not good. Hackers can hijack the SQL and do damaging things against the database. Let's now take a look at an AI agent I built using OpenAI. Ironically, I am going to use ChatGPT to evaluate how safe this code is to deploy in a web service.",
   "id": "e1c3d799d4fc63c4"
  },
  {
   "metadata": {},
   "cell_type": "code",
   "source": [
    "import openai\n",
    "\n",
    "class FoodMeasureAgent:\n",
    "    def __init__(self):\n",
    "\n",
    "        # Initialize OpenAI client\n",
    "        self.client = openai.OpenAI(api_key=\"XcBCz1ATmcq0kCCci3QHXDPXWzdhO2h8\")\n",
    "        self.conversation_history = [\n",
    "            {\"role\": \"system\",\n",
    "             \"content\": \"Convert each food measurement the user provides into grams. Only present the measurement. For example, If asked for a tablespoon of olive oil, only output '14 grams'\"\n",
    "             }\n",
    "        ]\n",
    "\n",
    "    def get_response(self, user_input):\n",
    "        # Add user message to conversation history\n",
    "        self.conversation_history.append({\"role\": \"user\", \"content\": user_input})\n",
    "\n",
    "        # Get response from OpenAI\n",
    "        response = self.client.chat.completions.create(\n",
    "            model=\"gpt-4o-mini\",  # You can change to \"gpt-4\" if you have access\n",
    "            messages=self.conversation_history,\n",
    "            max_tokens=1000,\n",
    "            temperature=0.7\n",
    "        )\n",
    "\n",
    "        # Extract the assistant's response\n",
    "        assistant_response = response.choices[0].message.content.strip()\n",
    "\n",
    "        # Add assistant's response to conversation history\n",
    "        self.conversation_history.append({\"role\": \"assistant\", \"content\": assistant_response})\n",
    "\n",
    "        return assistant_response\n",
    "\n",
    "# Replace with your actual OpenAI API key\n",
    "agent = FoodMeasureAgent()\n",
    "print(\"Welcome! Type a food measurement and I will convert it into grams. Type 'quit' to exit.\")\n",
    "while True:\n",
    "    user_input = input(\"\\nYou: \")\n",
    "    if user_input.lower() == 'quit':\n",
    "        print(\"Goodbye!\")\n",
    "        break\n",
    "    response = agent.get_response(user_input)\n",
    "    print(f\"AI: {response}\")"
   ],
   "id": "fa9bace868223318",
   "outputs": [],
   "execution_count": null
  }
 ],
 "metadata": {
  "kernelspec": {
   "display_name": "Python 3",
   "language": "python",
   "name": "python3"
  },
  "language_info": {
   "codemirror_mode": {
    "name": "ipython",
    "version": 2
   },
   "file_extension": ".py",
   "mimetype": "text/x-python",
   "name": "python",
   "nbconvert_exporter": "python",
   "pygments_lexer": "ipython2",
   "version": "2.7.6"
  }
 },
 "nbformat": 4,
 "nbformat_minor": 5
}

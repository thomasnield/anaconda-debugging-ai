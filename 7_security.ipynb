{
 "cells": [
  {
   "metadata": {
    "collapsed": true
   },
   "cell_type": "markdown",
   "source": "# Security Troubleshooting",
   "id": "1777b059eb8df106"
  },
  {
   "metadata": {},
   "cell_type": "markdown",
   "source": "I have some code I want to put into production. You can upload an entire code file, but let's look at these individual examples to show the security auditing help that AI assistants can provide. We will look at a larger example at the end.\n",
   "id": "df4c58d8a5e492fb"
  },
  {
   "metadata": {},
   "cell_type": "markdown",
   "source": "## Calculator that Runs Python Code user Inputs",
   "id": "28a52872a1c555ad"
  },
  {
   "metadata": {},
   "cell_type": "code",
   "source": [
    "def calculate_expression(user_input):\n",
    "    # Allows users to input a mathematical expression\n",
    "    result = eval(user_input)\n",
    "    return result\n",
    "\n",
    "# Example usage\n",
    "expression = input(\"Enter a math expression (e.g., 2 + 2): \")\n",
    "print(\"Result:\", calculate_expression(expression))"
   ],
   "id": "5423af14a56fa908",
   "outputs": [],
   "execution_count": null
  },
  {
   "metadata": {},
   "cell_type": "markdown",
   "source": "## Pinging an IP Address",
   "id": "f13490499a86df32"
  },
  {
   "metadata": {},
   "cell_type": "code",
   "outputs": [],
   "execution_count": null,
   "source": [
    "import os\n",
    "\n",
    "def ping_host(host):\n",
    "    command = \"ping -c 1 \" + host\n",
    "    os.system(command)\n",
    "\n",
    "ping_host(input(\"Enter host to ping: \"))"
   ],
   "id": "5369860e6230398f"
  },
  {
   "metadata": {},
   "cell_type": "markdown",
   "source": "## Loading Pickles",
   "id": "92aa4f7b81389d6d"
  },
  {
   "metadata": {},
   "cell_type": "code",
   "outputs": [],
   "execution_count": null,
   "source": [
    "import pickle\n",
    "\n",
    "def load_data(file_path):\n",
    "    with open(file_path, 'rb') as f:\n",
    "        data = pickle.load(f)\n",
    "    return data\n",
    "\n",
    "loaded = load_data('my_data.pkl')\n",
    "print(loaded)"
   ],
   "id": "235a893fd7c80904"
  },
  {
   "metadata": {},
   "cell_type": "markdown",
   "source": "## Hashing Passwords",
   "id": "ef695d03802d60b"
  },
  {
   "metadata": {
    "ExecuteTime": {
     "end_time": "2025-08-25T00:16:29.931934Z",
     "start_time": "2025-08-25T00:16:29.927683Z"
    }
   },
   "cell_type": "code",
   "source": [
    "import hashlib\n",
    "\n",
    "def hash_password(password):\n",
    "    return hashlib.md5(password.encode()).hexdigest()\n",
    "\n",
    "# Usage:\n",
    "stored_hash = hash_password(\"password123\")\n",
    "print(stored_hash)"
   ],
   "id": "2277521e377c8069",
   "outputs": [
    {
     "name": "stdout",
     "output_type": "stream",
     "text": [
      "482c811da5d5b4bc6d497ffa98491e38\n"
     ]
    }
   ],
   "execution_count": 2
  },
  {
   "metadata": {},
   "cell_type": "markdown",
   "source": "## Logging Information",
   "id": "3f3dcb958f2e9e5"
  },
  {
   "metadata": {},
   "cell_type": "code",
   "outputs": [],
   "execution_count": null,
   "source": [
    "import logging\n",
    "\n",
    "logging.basicConfig(filename='app.log', level=logging.DEBUG)\n",
    "\n",
    "def login(username, password):\n",
    "    logging.debug(f\"Login attempt: username={username}, password={password}\")\n",
    "    # Simulate auth check\n",
    "    if password == \"secret\":\n",
    "        return \"Login successful\"\n",
    "    return \"Login failed\"\n",
    "\n",
    "# Usage:\n",
    "print(login(\"user\", \"secret\"))"
   ],
   "id": "8f72c1cce3abff5e"
  },
  {
   "metadata": {},
   "cell_type": "markdown",
   "source": "## User File Upload Operation",
   "id": "2286159c755434ad"
  },
  {
   "metadata": {},
   "cell_type": "code",
   "outputs": [],
   "execution_count": null,
   "source": [
    "from flask import Flask\n",
    "\n",
    "app = Flask(__name__)\n",
    "\n",
    "@app.route('/upload', methods=['POST'])\n",
    "def upload_file():\n",
    "    file = request.files['file']\n",
    "    file.save(f\"uploads/{file.filename}\")  # No validation\n",
    "    return \"File uploaded successfully!\"\n",
    "\n",
    "if __name__ == '__main__':\n",
    "    app.run()"
   ],
   "id": "f789fb4c295eafec"
  },
  {
   "metadata": {},
   "cell_type": "markdown",
   "source": "## Parsing an XML",
   "id": "21caf95d27b33ce3"
  },
  {
   "metadata": {},
   "cell_type": "code",
   "outputs": [],
   "execution_count": null,
   "source": [
    "import xml.etree.ElementTree as ET\n",
    "\n",
    "def parse_xml(xml_data):\n",
    "    root = ET.fromstring(xml_data)\n",
    "    return root.text\n",
    "\n",
    "content = parse_xml(input(\"Enter XML: \"))\n",
    "print(content)"
   ],
   "id": "d270d87ca0bf167b"
  },
  {
   "metadata": {},
   "cell_type": "markdown",
   "source": "## Embedding a User's Input",
   "id": "163a0a4c1ffebbb5"
  },
  {
   "metadata": {},
   "cell_type": "code",
   "outputs": [],
   "execution_count": null,
   "source": [
    "from flask import Flask, request\n",
    "\n",
    "app = Flask(__name__)\n",
    "\n",
    "@app.route('/greet')\n",
    "def greet():\n",
    "    name = request.args.get('name', 'Guest')\n",
    "    return f\"<h1>Hello, {name}!</h1>\"\n",
    "\n",
    "if __name__ == '__main__':\n",
    "    app.run()\n"
   ],
   "id": "9ed034368c112cf7"
  },
  {
   "metadata": {},
   "cell_type": "markdown",
   "source": "## Accepting SQL Parameters",
   "id": "5b5fd1c0b23ec435"
  },
  {
   "metadata": {
    "ExecuteTime": {
     "end_time": "2025-08-25T12:52:12.568505Z",
     "start_time": "2025-08-25T12:52:11.692503Z"
    }
   },
   "cell_type": "code",
   "source": [
    "import sqlite3\n",
    "\n",
    "conn = sqlite3.connect(\"company_operations.db\")\n",
    "\n",
    "def get_customer_details(customer_id):\n",
    "    sql = f\"SELECT * FROM CUSTOMER WHERE CUSTOMER_ID = {customer_id}\"\n",
    "    cursor = conn.cursor()\n",
    "    cursor.execute(sql)\n",
    "    customer = cursor.fetchone()\n",
    "    return customer\n"
   ],
   "id": "b05461b35c2114a5",
   "outputs": [
    {
     "name": "stdout",
     "output_type": "stream",
     "text": [
      "[(5, 'Lite Industrial', '462 Roadrunner Blvd', 'Houston', 'TX', 77254, 'INDUSTRIAL')]\n"
     ]
    }
   ],
   "execution_count": 3
  },
  {
   "metadata": {},
   "cell_type": "markdown",
   "source": "## Creating an OpenAI Agent",
   "id": "a8199bca642807fd"
  },
  {
   "metadata": {},
   "cell_type": "code",
   "source": [
    "import openai\n",
    "\n",
    "class FoodMeasureAgent:\n",
    "    def __init__(self):\n",
    "\n",
    "        # Initialize OpenAI client\n",
    "        self.client = openai.OpenAI(api_key=\"XcBCz1ATmcq0kCCci3QHXDPXWzdhO2h8\")\n",
    "        self.conversation_history = [\n",
    "            {\"role\": \"system\",\n",
    "             \"content\": \"Convert each food measurement the user provides into grams. Only present the measurement. For example, If asked for a tablespoon of olive oil, only output '14 grams'\"\n",
    "             }\n",
    "        ]\n",
    "\n",
    "    def get_response(self, user_input):\n",
    "        # Add user message to conversation history\n",
    "        self.conversation_history.append({\"role\": \"user\", \"content\": user_input})\n",
    "\n",
    "        # Get response from OpenAI\n",
    "        response = self.client.chat.completions.create(\n",
    "            model=\"gpt-4o-mini\",  # You can change to \"gpt-4\" if you have access\n",
    "            messages=self.conversation_history,\n",
    "            max_tokens=1000,\n",
    "            temperature=0.7\n",
    "        )\n",
    "\n",
    "        # Extract the assistant's response\n",
    "        assistant_response = response.choices[0].message.content.strip()\n",
    "\n",
    "        # Add assistant's response to conversation history\n",
    "        self.conversation_history.append({\"role\": \"assistant\", \"content\": assistant_response})\n",
    "\n",
    "        return assistant_response\n",
    "\n",
    "# Replace with your actual OpenAI API key\n",
    "agent = FoodMeasureAgent()\n",
    "print(\"Welcome! Type a food measurement and I will convert it into grams. Type 'quit' to exit.\")\n",
    "while True:\n",
    "    user_input = input(\"\\nYou: \")\n",
    "    if user_input.lower() == 'quit':\n",
    "        print(\"Goodbye!\")\n",
    "        break\n",
    "    response = agent.get_response(user_input)\n",
    "    print(f\"AI: {response}\")"
   ],
   "id": "fa9bace868223318",
   "outputs": [],
   "execution_count": null
  },
  {
   "metadata": {},
   "cell_type": "markdown",
   "source": [
    "## EXERCISE\n",
    "\n",
    "Do a ecurity review on this code"
   ],
   "id": "f419314dbabef76d"
  },
  {
   "metadata": {},
   "cell_type": "code",
   "outputs": [],
   "execution_count": null,
   "source": [
    "from flask import Flask, send_file\n",
    "\n",
    "app = Flask(__name__)\n",
    "\n",
    "@app.route('/download/<filename>')\n",
    "def download_file(filename):\n",
    "    return send_file(filename)\n",
    "\n",
    "if __name__ == '__main__':\n",
    "    app.run()\n"
   ],
   "id": "bc812ebbc52a6097"
  }
 ],
 "metadata": {
  "kernelspec": {
   "display_name": "Python 3",
   "language": "python",
   "name": "python3"
  },
  "language_info": {
   "codemirror_mode": {
    "name": "ipython",
    "version": 2
   },
   "file_extension": ".py",
   "mimetype": "text/x-python",
   "name": "python",
   "nbconvert_exporter": "python",
   "pygments_lexer": "ipython2",
   "version": "2.7.6"
  }
 },
 "nbformat": 4,
 "nbformat_minor": 5
}

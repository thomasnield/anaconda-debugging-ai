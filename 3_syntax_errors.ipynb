{
 "cells": [
  {
   "metadata": {},
   "cell_type": "markdown",
   "source": "# Debugging Syntax Errors with AI",
   "id": "10b65fba1f728aef"
  },
  {
   "metadata": {},
   "cell_type": "markdown",
   "source": "Let's start with something basic. Let's say we are learning python and not sure what is wrong with this code. We can ask ChatGPT.",
   "id": "2de3c8105c199ddb"
  },
  {
   "metadata": {},
   "cell_type": "code",
   "source": [
    "\"\"\"\n",
    "def my_function() {\n",
    "    print(\"Hello\")\n",
    "}\n",
    "\"\"\""
   ],
   "id": "340e9986bc9885a",
   "outputs": [],
   "execution_count": null
  },
  {
   "metadata": {},
   "cell_type": "markdown",
   "source": "Apparently I've been writing too much Java or Rust, but ChatGPT and other AI assistants can catch the error. Let's take a look at another example and troubleshoot it.",
   "id": "3d7ac705ef09b93c"
  },
  {
   "metadata": {},
   "cell_type": "code",
   "source": [
    "\"\"\"\n",
    "def calculate_average(numbers):\n",
    "    total = 0\n",
    "    count = 0\n",
    "    for num in numbers:\n",
    "        total += num\n",
    "         count += 1\n",
    "    return total / count if count > 0 else 0\n",
    "\n",
    "# Example usage\n",
    "scores = [85, 90, 95, 88]\n",
    "avg = calculate_average(scores)\n",
    "print(f\"The average score is: {avg}\")\n",
    "\"\"\""
   ],
   "id": "424563f42790a95a",
   "outputs": [],
   "execution_count": null
  },
  {
   "metadata": {},
   "cell_type": "markdown",
   "source": [
    "The AI should catch issues when my indents are off, or when an extra space is added.\n",
    "\n",
    "Here is a mistake I frequently make coming from other programming languages."
   ],
   "id": "fef649bf569e1edd"
  },
  {
   "metadata": {},
   "cell_type": "code",
   "source": [
    "\"\"\"\n",
    "def display_summary(items):\n",
    "    total = sum(items)\n",
    "    average = total / len(items) if items else 0\n",
    "\n",
    "    println(f\"Total: {total}\")\n",
    "    print(f\"Average: {average}\")\n",
    "\n",
    "    return total, average\n",
    "\n",
    "# Example usage\n",
    "item_prices = [10.99, 24.50, 15.75]\n",
    "total, avg = display_summary(item_prices)\n",
    "\"\"\""
   ],
   "id": "6ee91d39758902a8",
   "outputs": [],
   "execution_count": null
  },
  {
   "metadata": {},
   "cell_type": "markdown",
   "source": [
    "Yup, I sometimes call `println()` instead of `print()`. Java, Kotlin, and Rust have corrupted me.\n",
    "\n",
    "Let's take a look at another syntax error and troubleshoot it."
   ],
   "id": "d77d0038118b1747"
  },
  {
   "metadata": {},
   "cell_type": "code",
   "source": [
    "\"\"\"\n",
    "def check_eligibility(age, membership):\n",
    "    if age = 18:\n",
    "        if membership == 'active':\n",
    "            return \"Eligible for premium benefits\"\n",
    "        else:\n",
    "            return \"Eligible for standard benefits\"\n",
    "    else:\n",
    "        return \"Not eligible\"\n",
    "\n",
    "# Example usage\n",
    "user_age = 20\n",
    "user_status = 'active'\n",
    "result = check_eligibility(user_age, user_status)\n",
    "print(f\"User status: {result}\")\n",
    "\"\"\""
   ],
   "id": "fc4ead6378a6a62d",
   "outputs": [],
   "execution_count": null
  },
  {
   "metadata": {},
   "cell_type": "markdown",
   "source": "Moving on, what's wrong with this?",
   "id": "ec2fa8167f25fbbf"
  },
  {
   "metadata": {},
   "cell_type": "code",
   "source": [
    "\"\"\"\n",
    "def process_user_data():\n",
    "    user_info = {\n",
    "        'name': 'Alice',\n",
    "        'age': 25\n",
    "        'city': 'New York'\n",
    "    }\n",
    "\n",
    "    scores = [95, 88, 92  76, 85]\n",
    "\n",
    "    total = sum(scores)\n",
    "    average = total / len(scores)\n",
    "\n",
    "    return {\n",
    "        'user': user_info,\n",
    "        'average_score': average,\n",
    "    }\n",
    "\n",
    "# Example usage\n",
    "result = process_user_data()\n",
    "print(f\"User data: {result}\")\n",
    "\"\"\""
   ],
   "id": "23f02f09fbbfa61c",
   "outputs": [],
   "execution_count": null
  },
  {
   "metadata": {},
   "cell_type": "markdown",
   "source": "Here's another one I make sometimes because other programming languages have corrupted me. Can you spot it or do you need AI to help?",
   "id": "8c4f356aa5bf2e7d"
  },
  {
   "metadata": {},
   "cell_type": "code",
   "source": [
    "\"\"\"\n",
    "def check_access(user_role, is_authenticated):\n",
    "    if user_role == 'admin' && is_authenticated:\n",
    "        return \"Access granted to admin panel\"\n",
    "    else:\n",
    "        return \"Access denied\"\n",
    "\n",
    "# Example usage\n",
    "role = 'admin'\n",
    "auth_status = True\n",
    "result = check_access(role, auth_status)\n",
    "print(f\"Result: {result}\")\n",
    "\"\"\""
   ],
   "id": "e469d1034494fba9",
   "outputs": [],
   "execution_count": null
  },
  {
   "metadata": {},
   "cell_type": "markdown",
   "source": "Does Python support ternary operators? I think not. Now I can't remember how to do this in Python because my Java side is coming in strong!",
   "id": "5fc2d57197756d5c"
  },
  {
   "metadata": {},
   "cell_type": "code",
   "source": [
    "\"\"\"\n",
    "def calculate_discount(price, is_member):\n",
    "    discount =  is_member ? 0.1 : 0.05\n",
    "    final_price = price * (1 - discount)\n",
    "    return round(final_price, 2)\n",
    "\n",
    "# Example usage\n",
    "item_price = 99.99\n",
    "member_status = True\n",
    "result = calculate_discount(item_price, member_status)\n",
    "print(f\"Final price: ${result}\")\n",
    "\"\"\""
   ],
   "id": "1108bf15f9817898",
   "outputs": [],
   "execution_count": null
  },
  {
   "metadata": {},
   "cell_type": "markdown",
   "source": "But hey! This is valid Python code, right?",
   "id": "1c3bda0a72a9060b"
  },
  {
   "metadata": {},
   "cell_type": "code",
   "source": [
    "\"\"\"\n",
    "def count_valid_items(items):\n",
    "    count = 0\n",
    "    for item in items:\n",
    "        if item > 0:\n",
    "            count++\n",
    "    return count\n",
    "\n",
    "# Example usage\n",
    "numbers = [5, -2, 10, 0, 8]\n",
    "result = count_valid_items(numbers)\n",
    "print(f\"Number of valid items: {result}\")\n",
    "\"\"\""
   ],
   "id": "9b7beafb671af903",
   "outputs": [],
   "execution_count": null
  },
  {
   "metadata": {},
   "cell_type": "markdown",
   "source": "Surely there's nothing wrong with this, right?",
   "id": "88ad87b1025a516"
  },
  {
   "metadata": {},
   "cell_type": "code",
   "source": [
    "\"\"\"\n",
    "def calculate_tax(amount, rate)\n",
    "    tax = amount * rate\n",
    "    return round(tax, 2)\n",
    "\n",
    "# Example usage\n",
    "price = 100.00\n",
    "tax_rate = 0.08\n",
    "result = calculate_tax(price, tax_rate)\n",
    "print(f\"Tax amount: ${result}\")\n",
    "\"\"\""
   ],
   "id": "d9b5a4622cad5cc7",
   "outputs": [],
   "execution_count": null
  },
  {
   "metadata": {},
   "cell_type": "markdown",
   "source": "Or this?",
   "id": "1067f3aa32a80cb5"
  },
  {
   "metadata": {},
   "cell_type": "code",
   "source": [
    "\"\"\"\n",
    "def filter_data(items):\n",
    "    for item in items:\n",
    "        if item > 0:\n",
    "            class = item * 2\n",
    "            print(f\"Processed item: {class}\")\n",
    "    return items\n",
    "\n",
    "# Example usage\n",
    "data = [1, -3, 5, 0, 7]\n",
    "result = filter_data(data)\n",
    "print(f\"Filtered data: {result}\")\n",
    "\"\"\""
   ],
   "id": "e116d4d001f898fe",
   "outputs": [],
   "execution_count": null
  },
  {
   "metadata": {},
   "cell_type": "markdown",
   "source": "I must have been doing too much Javascript.",
   "id": "46db808f28af209e"
  },
  {
   "metadata": {},
   "cell_type": "code",
   "source": [
    "\"\"\"\n",
    "function calculate_total(items):\n",
    "    total = sum(items)\n",
    "    return total\n",
    "\n",
    "# Example usage\n",
    "prices = [10.99, 24.50, 15.75]\n",
    "result = calculate_total(prices)\n",
    "print(f\"Total price: ${result}\")\n",
    "\"\"\""
   ],
   "id": "6811200dfbae6e62",
   "outputs": [],
   "execution_count": null
  },
  {
   "metadata": {},
   "cell_type": "markdown",
   "source": "Of course, we can use an IDE to help identify these obvious syntax errors. But it can be helpful to pass these through an AI when something is not right.",
   "id": "4c27dc5392abb54a"
  },
  {
   "metadata": {},
   "cell_type": "markdown",
   "source": "## Regex Errors",
   "id": "53c3d8864094efd4"
  },
  {
   "metadata": {},
   "cell_type": "markdown",
   "source": "Let's see a few other domains besides Python, but still being called in Python. What is up with this regular expression? The syntax is broken somehow.",
   "id": "47bdeca4e05ae6d4"
  },
  {
   "metadata": {},
   "cell_type": "code",
   "source": [
    "import re\n",
    "\n",
    "# Helper function to break up words from a string\n",
    "def break_up_words(str):\n",
    "    return re.sub(r'[^\\w\\]', '', str.lower()).split()\n",
    "\n",
    "break_up_words(\"Hello, this is a sentence I am trying to tokenize.\")"
   ],
   "id": "d4a01ae31ce157b7",
   "outputs": [],
   "execution_count": null
  },
  {
   "metadata": {},
   "cell_type": "markdown",
   "source": "This one is broken too that attemtps to find URLs in a document. What is the error?",
   "id": "e40b7bdb02f78ecf"
  },
  {
   "metadata": {},
   "cell_type": "code",
   "source": [
    "import re\n",
    "\n",
    "web_pattern = re.compile(r'(https?://)?(www\\.)?([a-z0-9}+)\\.(com|org|gov)')\n",
    "\n",
    "\n",
    "urls = \"\"\"\n",
    "Here are a few websites below:\n",
    "\n",
    "https://www.yawmanflight.com\n",
    "http://microsoft.com\n",
    "https://youtube.com\n",
    "https://www.anaconda.com\n",
    "\n",
    "These are non-commercial sites:\n",
    "https://www.python.org\n",
    "https://whitehouse.gov\n",
    "\"\"\"\n",
    "\n",
    "matches = web_pattern.finditer(urls)\n",
    "\n",
    "for match in matches:\n",
    "    print(match[0])"
   ],
   "id": "39e8cf1b80f4ac8b",
   "outputs": [],
   "execution_count": null
  },
  {
   "metadata": {},
   "cell_type": "markdown",
   "source": "## SQL Syntax Errors\n",
   "id": "1d87daac5921f770"
  },
  {
   "metadata": {},
   "cell_type": "markdown",
   "source": "Let's download a SQLite file from Github so we can connect to it and query the data inside.",
   "id": "34289f1cf5ab5ab6"
  },
  {
   "metadata": {},
   "cell_type": "code",
   "source": [
    "import requests\n",
    "open(\"company_operations.db\", \"wb\") \\\n",
    "    .write(requests.get(\"https://github.com/thomasnield/anaconda_intro_to_sql/raw/refs/heads/main/company_operations.db\").content)"
   ],
   "id": "9ffcb64de8fcacb7",
   "outputs": [],
   "execution_count": null
  },
  {
   "metadata": {},
   "cell_type": "markdown",
   "source": "Let's establish the connection.",
   "id": "fc78237f20b03ec6"
  },
  {
   "metadata": {},
   "cell_type": "code",
   "source": [
    "import sqlite3\n",
    "\n",
    "conn = sqlite3.conn(\"company_operations.db\")"
   ],
   "id": "7a5e394580a2e2c7",
   "outputs": [],
   "execution_count": null
  },
  {
   "metadata": {},
   "cell_type": "markdown",
   "source": "Now that we fixed that connection issue, let's get all records from the `CUSTOMER` table.",
   "id": "ff2d7d5c18f6a2bb"
  },
  {
   "metadata": {},
   "cell_type": "code",
   "source": [
    "import pandas as pd\n",
    "\n",
    "pd.read_sql(\"SELECT ALL FROM CUSTOMER\", conn)"
   ],
   "id": "d7d728a871e9502",
   "outputs": [],
   "execution_count": null
  },
  {
   "metadata": {},
   "cell_type": "markdown",
   "source": "Okay, hopefully no more issues. Let's select some of the fields.",
   "id": "793cbd0b65e9365c"
  },
  {
   "metadata": {},
   "cell_type": "code",
   "source": [
    "import pandas as pd\n",
    "\n",
    "pd.read_sql(\"SELECT CUSTOMER_NAME, ADDRESS, CITY, STATE, ZIP, FROM CUSTOMER\", conn)"
   ],
   "id": "20c7ea9a6b694a2f",
   "outputs": [],
   "execution_count": null
  },
  {
   "metadata": {},
   "cell_type": "markdown",
   "source": "I remember seeing a query on Microsoft SQL Server that allows me to retrieve a single record. Let's investigate why this one doesn't work.",
   "id": "8b45d2f084dac78e"
  },
  {
   "metadata": {},
   "cell_type": "code",
   "source": [
    "import pandas as pd\n",
    "\n",
    "pd.read_sql(\"SELECT TOP 1 * FROM CUSTOMER\", conn)"
   ],
   "id": "3255b7a79a0b82",
   "outputs": [],
   "execution_count": null
  },
  {
   "metadata": {},
   "cell_type": "markdown",
   "source": "## EXERCISE",
   "id": "f162d6e682c75a0a"
  },
  {
   "metadata": {},
   "cell_type": "markdown",
   "source": "Find the error in this XML code below, so Python can read it and iterate the books in it.",
   "id": "5022e546f7697a7d"
  },
  {
   "metadata": {},
   "cell_type": "code",
   "outputs": [],
   "execution_count": null,
   "source": [
    "import xml.etree.ElementTree as ET\n",
    "from xml.etree.ElementTree import ParseError\n",
    "\n",
    "# Sample broken XML as a string\n",
    "my_xml = \"\"\"<?xml version=\"1.0\" encoding=\"UTF-8\"?>\n",
    "<library>\n",
    "    <book>\n",
    "        <title>The Great Gatsby</title>\n",
    "        <author>F. Scott Fitzgerald</author>\n",
    "    <book>\n",
    "    <book>\n",
    "        <title>1984</title>\n",
    "        <author>George Orwell</author>\n",
    "    </book>\n",
    "/library>\n",
    "\"\"\"\n",
    "\n",
    "try:\n",
    "    # Attempt to parse the XML string\n",
    "    root = ET.fromstring(my_xml)\n",
    "    # If parsing succeeds, print the titles\n",
    "    for book in root.findall('book'):\n",
    "        title = book.find('title').text\n",
    "        print(f\"Book title: {title}\")\n",
    "except ParseError as e:\n",
    "    # Handle the parsing error\n",
    "    print(f\"Failed to parse XML: {e}\")"
   ],
   "id": "cf50cd00497f4ccb"
  },
  {
   "metadata": {},
   "cell_type": "markdown",
   "source": "## JSON\n",
   "id": "91f7beca1a1e9db1"
  },
  {
   "metadata": {},
   "cell_type": "markdown",
   "source": "Let's say we are loading up some JSON in Python, but we keep getting error? How do we troubleshoot it?",
   "id": "bb48ab69c74ba848"
  },
  {
   "metadata": {},
   "cell_type": "code",
   "outputs": [],
   "execution_count": null,
   "source": [
    "import json\n",
    "\n",
    "some_json = \"\"\"\n",
    "{\n",
    "  \"user\": {\n",
    "    \"id\": 1024,\n",
    "    \"name\": \"Alice\",\n",
    "    \"email\": \"alice@example.com\"\n",
    "    \"signup_date\": \"2025-08-14T10:23:00Z\",\n",
    "    \"preferences\": {\n",
    "      \"newsletter\": true,\n",
    "      \"theme\": \"dark\"\n",
    "    },\n",
    "    \"last_login\": \"2025-08-14T15:42:00Z\",  // last login timestamp\n",
    "  }\n",
    "}\n",
    "\"\"\"\n",
    "\n",
    "data = json.loads(some_json)\n",
    "data\n"
   ],
   "id": "6ed45e0eda9fe9c9"
  },
  {
   "metadata": {},
   "cell_type": "markdown",
   "source": [
    "### SCROLL DOWN FOR ANSWER\n",
    "|<br>\n",
    "|<br>\n",
    "|<br>\n",
    "|<br>\n",
    "|<br>\n",
    "|<br>\n",
    "|<br>\n",
    "|<br>\n",
    "|<br>\n",
    "|<br>\n",
    "|<br>\n",
    "|<br>\n",
    "|<br>\n",
    "|<br>\n",
    "|<br>\n",
    "|<br>\n",
    "|<br>\n",
    "|<br>\n",
    "|<br>\n",
    "|<br>\n",
    "|<br>\n",
    "|<br>\n",
    "|<br>\n",
    "v"
   ],
   "id": "c669cd2d03facb61"
  },
  {
   "metadata": {},
   "cell_type": "code",
   "outputs": [],
   "execution_count": null,
   "source": [
    "import xml.etree.ElementTree as ET\n",
    "from xml.etree.ElementTree import ParseError\n",
    "\n",
    "# Sample broken XML as a string\n",
    "my_xml = \"\"\"<?xml version=\"1.0\" encoding=\"UTF-8\"?>\n",
    "<library>\n",
    "    <book>\n",
    "        <title>The Great Gatsby</title>\n",
    "        <author>F. Scott Fitzgerald</author>\n",
    "    </book>\n",
    "    <book>\n",
    "        <title>1984</title>\n",
    "        <author>George Orwell</author>\n",
    "    </book>\n",
    "</library>\n",
    "\"\"\"\n",
    "\n",
    "try:\n",
    "    # Attempt to parse the XML string\n",
    "    root = ET.fromstring(my_xml)\n",
    "    # If parsing succeeds, print the titles\n",
    "    for book in root.findall('book'):\n",
    "        title = book.find('title').text\n",
    "        print(f\"Book title: {title}\")\n",
    "except ParseError as e:\n",
    "    # Handle the parsing error\n",
    "    print(f\"Failed to parse XML: {e}\")"
   ],
   "id": "a855a21d843c34c9"
  }
 ],
 "metadata": {
  "kernelspec": {
   "display_name": "Python 3",
   "language": "python",
   "name": "python3"
  },
  "language_info": {
   "codemirror_mode": {
    "name": "ipython",
    "version": 2
   },
   "file_extension": ".py",
   "mimetype": "text/x-python",
   "name": "python",
   "nbconvert_exporter": "python",
   "pygments_lexer": "ipython2",
   "version": "2.7.6"
  }
 },
 "nbformat": 4,
 "nbformat_minor": 5
}

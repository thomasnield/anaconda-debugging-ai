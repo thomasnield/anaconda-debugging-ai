{
 "cells": [
  {
   "cell_type": "markdown",
   "id": "10b65fba1f728aef",
   "metadata": {},
   "source": [
    "# Debugging Syntax Errors with AI"
   ]
  },
  {
   "cell_type": "markdown",
   "id": "2de3c8105c199ddb",
   "metadata": {},
   "source": [
    "Let's start with some basic, maybe a little on-the-nose examples just to get in a rhythm. It's late, my caffeine wore off. I'm using a basic code editor, and I don't know what I'm doing wrong here. We can ask ChatGPT."
   ]
  },
  {
   "cell_type": "code",
   "execution_count": 1,
   "id": "340e9986bc9885a",
   "metadata": {},
   "outputs": [
    {
     "ename": "SyntaxError",
     "evalue": "expected ':' (2048296637.py, line 1)",
     "output_type": "error",
     "traceback": [
      "  \u001B[36mCell\u001B[39m\u001B[36m \u001B[39m\u001B[32mIn[1]\u001B[39m\u001B[32m, line 1\u001B[39m\n\u001B[31m    \u001B[39m\u001B[31mdef my_function() {\u001B[39m\n                      ^\n\u001B[31mSyntaxError\u001B[39m\u001B[31m:\u001B[39m expected ':'\n"
     ]
    }
   ],
   "source": [
    "def my_function():\n",
    "    print(\"Hello\")"
   ]
  },
  {
   "cell_type": "markdown",
   "id": "3d7ac705ef09b93c",
   "metadata": {},
   "source": [
    "Apparently I've been writing too much Java or Rust, but ChatGPT and other AI assistants can be quick to highlight the issue. Let's take a look at another example and troubleshoot it."
   ]
  },
  {
   "cell_type": "code",
   "execution_count": null,
   "id": "424563f42790a95a",
   "metadata": {},
   "outputs": [],
   "source": [
    "\n",
    "def calculate_average(numbers):\n",
    "    total = 0\n",
    "    count = 0\n",
    "    for num in numbers:\n",
    "        total += num\n",
    "        count += 1\n",
    "    return total / count if count > 0 else 0\n",
    "\n",
    "# Example usage\n",
    "scores = [85, 90, 95, 88]\n",
    "avg = calculate_average(scores)\n",
    "print(f\"The average score is: {avg}\")\n"
   ]
  },
  {
   "cell_type": "markdown",
   "id": "fef649bf569e1edd",
   "metadata": {},
   "source": [
    "Subtly, my indents are off. The AI can help catch this.\n",
    "\n",
    "Here is a mistake I frequently make coming from other programming languages."
   ]
  },
  {
   "cell_type": "code",
   "execution_count": null,
   "id": "6ee91d39758902a8",
   "metadata": {},
   "outputs": [],
   "source": [
    "\"\"\"\n",
    "def display_summary(items):\n",
    "    total = sum(items)\n",
    "    average = total / len(items) if items else 0\n",
    "\n",
    "    println(f\"Total: {total}\")\n",
    "    print(f\"Average: {average}\")\n",
    "\n",
    "    return total, average\n",
    "\n",
    "# Example usage\n",
    "item_prices = [10.99, 24.50, 15.75]\n",
    "total, avg = display_summary(item_prices)\n",
    "\"\"\""
   ]
  },
  {
   "cell_type": "markdown",
   "id": "d77d0038118b1747",
   "metadata": {},
   "source": [
    "Yup, I sometimes call `println()` instead of `print()`. Java, Kotlin, and Rust have corrupted me.\n",
    "\n",
    "Let's take a look at another syntax error and troubleshoot it."
   ]
  },
  {
   "cell_type": "code",
   "execution_count": null,
   "id": "fc4ead6378a6a62d",
   "metadata": {},
   "outputs": [],
   "source": [
    "\"\"\"\n",
    "def check_eligibility(age, membership):\n",
    "    if age = 18:\n",
    "        if membership == 'active':\n",
    "            return \"Eligible for premium benefits\"\n",
    "        else:\n",
    "            return \"Eligible for standard benefits\"\n",
    "    else:\n",
    "        return \"Not eligible\"\n",
    "\n",
    "# Example usage\n",
    "user_age = 20\n",
    "user_status = 'active'\n",
    "result = check_eligibility(user_age, user_status)\n",
    "print(f\"User status: {result}\")\n",
    "\"\"\""
   ]
  },
  {
   "cell_type": "markdown",
   "id": "ec2fa8167f25fbbf",
   "metadata": {},
   "source": [
    "Moving on, what's wrong with this?"
   ]
  },
  {
   "cell_type": "code",
   "execution_count": null,
   "id": "23f02f09fbbfa61c",
   "metadata": {},
   "outputs": [],
   "source": [
    "\"\"\"\n",
    "def process_user_data():\n",
    "    user_info = {\n",
    "        'name': 'Alice',\n",
    "        'age': 25\n",
    "        'city': 'New York'\n",
    "    }\n",
    "\n",
    "    scores = [95, 88, 92  76, 85]\n",
    "\n",
    "    total = sum(scores)\n",
    "    average = total / len(scores)\n",
    "\n",
    "    return {\n",
    "        'user': user_info,\n",
    "        'average_score': average,\n",
    "    }\n",
    "\n",
    "# Example usage\n",
    "result = process_user_data()\n",
    "print(f\"User data: {result}\")\n",
    "\"\"\""
   ]
  },
  {
   "cell_type": "markdown",
   "id": "8c4f356aa5bf2e7d",
   "metadata": {},
   "source": [
    "Here's another one I make sometimes because other programming languages have corrupted me. Can you spot it or do you need AI to help?"
   ]
  },
  {
   "cell_type": "code",
   "execution_count": null,
   "id": "e469d1034494fba9",
   "metadata": {},
   "outputs": [],
   "source": [
    "\"\"\"\n",
    "def check_access(user_role, is_authenticated):\n",
    "    if user_role == 'admin' && is_authenticated:\n",
    "        return \"Access granted to admin panel\"\n",
    "    else:\n",
    "        return \"Access denied\"\n",
    "\n",
    "# Example usage\n",
    "role = 'admin'\n",
    "auth_status = True\n",
    "result = check_access(role, auth_status)\n",
    "print(f\"Result: {result}\")\n",
    "\"\"\""
   ]
  },
  {
   "cell_type": "markdown",
   "id": "5fc2d57197756d5c",
   "metadata": {},
   "source": [
    "Does Python support ternary operators? I can't remember. Java supports it right so Python should too, right?"
   ]
  },
  {
   "cell_type": "code",
   "execution_count": null,
   "id": "1108bf15f9817898",
   "metadata": {},
   "outputs": [],
   "source": [
    "\"\"\"\n",
    "def calculate_discount(price, is_member):\n",
    "    discount =  is_member ? 0.1 : 0.05\n",
    "    final_price = price * (1 - discount)\n",
    "    return round(final_price, 2)\n",
    "\n",
    "# Example usage\n",
    "item_price = 99.99\n",
    "member_status = True\n",
    "result = calculate_discount(item_price, member_status)\n",
    "print(f\"Final price: ${result}\")\n",
    "\"\"\""
   ]
  },
  {
   "cell_type": "markdown",
   "id": "1c3bda0a72a9060b",
   "metadata": {},
   "source": [
    "But hey! This is valid Python code, right? I would have sworn Pyt"
   ]
  },
  {
   "cell_type": "code",
   "execution_count": 16,
   "id": "9b7beafb671af903",
   "metadata": {
    "ExecuteTime": {
     "end_time": "2025-08-17T22:48:54.616498Z",
     "start_time": "2025-08-17T22:48:54.611765Z"
    }
   },
   "outputs": [
    {
     "ename": "SyntaxError",
     "evalue": "invalid syntax (2657070134.py, line 5)",
     "output_type": "error",
     "traceback": [
      "  \u001B[36mCell\u001B[39m\u001B[36m \u001B[39m\u001B[32mIn[16]\u001B[39m\u001B[32m, line 5\u001B[39m\n\u001B[31m    \u001B[39m\u001B[31mcount++\u001B[39m\n           ^\n\u001B[31mSyntaxError\u001B[39m\u001B[31m:\u001B[39m invalid syntax\n"
     ]
    }
   ],
   "source": [
    "\"\"\"\n",
    "def count_valid_items(items):\n",
    "    count = 0\n",
    "    for item in items:\n",
    "        if item > 0:\n",
    "            count++\n",
    "    return count\n",
    "\n",
    "# Example usage\n",
    "numbers = [5, -2, 10, 0, 8]\n",
    "result = count_valid_items(numbers)\n",
    "print(f\"Number of valid items: {result}\")\n",
    "\"\"\"\n"
   ]
  },
  {
   "cell_type": "markdown",
   "id": "88ad87b1025a516",
   "metadata": {},
   "source": [
    "Surely there's nothing wrong with this, right?"
   ]
  },
  {
   "cell_type": "code",
   "execution_count": null,
   "id": "d9b5a4622cad5cc7",
   "metadata": {},
   "outputs": [],
   "source": [
    "\"\"\"\n",
    "def calculate_tax(amount, rate)\n",
    "    tax = amount * rate\n",
    "    return round(tax, 2)\n",
    "\n",
    "# Example usage\n",
    "price = 100.00\n",
    "tax_rate = 0.08\n",
    "result = calculate_tax(price, tax_rate)\n",
    "print(f\"Tax amount: ${result}\")\n",
    "\"\"\""
   ]
  },
  {
   "cell_type": "markdown",
   "id": "1067f3aa32a80cb5",
   "metadata": {},
   "source": [
    "Or this?"
   ]
  },
  {
   "cell_type": "code",
   "execution_count": null,
   "id": "e116d4d001f898fe",
   "metadata": {},
   "outputs": [],
   "source": [
    "\"\"\"\n",
    "def filter_data(items):\n",
    "    for item in items:\n",
    "        if item > 0:\n",
    "            class = item * 2\n",
    "            print(f\"Processed item: {class}\")\n",
    "    return items\n",
    "\n",
    "# Example usage\n",
    "data = [1, -3, 5, 0, 7]\n",
    "result = filter_data(data)\n",
    "print(f\"Filtered data: {result}\")\n",
    "\"\"\""
   ]
  },
  {
   "cell_type": "markdown",
   "id": "46db808f28af209e",
   "metadata": {},
   "source": [
    "I must have been doing too much Javascript."
   ]
  },
  {
   "cell_type": "code",
   "execution_count": null,
   "id": "6811200dfbae6e62",
   "metadata": {},
   "outputs": [],
   "source": [
    "\"\"\"\n",
    "function calculate_total(items):\n",
    "    total = sum(items)\n",
    "    return total\n",
    "\n",
    "# Example usage\n",
    "prices = [10.99, 24.50, 15.75]\n",
    "result = calculate_total(prices)\n",
    "print(f\"Total price: ${result}\")\n",
    "\"\"\""
   ]
  },
  {
   "cell_type": "markdown",
   "id": "4c27dc5392abb54a",
   "metadata": {},
   "source": [
    "Of course, we can use an IDE to help identify these obvious syntax errors. But it can be helpful to pass these through an AI when something is not right and we're unsure what the proper syntax is."
   ]
  },
  {
   "cell_type": "code",
   "execution_count": null,
   "id": "44d838449d8078e2",
   "metadata": {},
   "outputs": [],
   "source": [
    "\"\"\"import matplotlib.pyplot as plt\n",
    "x_data = [ 1.0, 2.0, 3.0 ]\n",
    "y_actuals = [ 1.2, 1.25, 2.0 ]\n",
    "m = .368421\n",
    "b = .587719\n",
    "\n",
    "# show in chart\n",
    "plt.plot(x_data, y_actuals, 'o') # scatterplot\n",
    "plt.plot(x_data, m*x+b for x in x_data)\n",
    "plt.show()\"\"\""
   ]
  },
  {
   "cell_type": "markdown",
   "id": "53c3d8864094efd4",
   "metadata": {},
   "source": [
    "## Regex Errors"
   ]
  },
  {
   "cell_type": "markdown",
   "id": "47bdeca4e05ae6d4",
   "metadata": {},
   "source": [
    "Let's see a few other domains besides Python, but still being called in Python. What is up with this regular expression? The syntax is broken somehow."
   ]
  },
  {
   "cell_type": "code",
   "execution_count": null,
   "id": "d4a01ae31ce157b7",
   "metadata": {},
   "outputs": [],
   "source": [
    "import re\n",
    "\n",
    "# Helper function to break up words from a string\n",
    "def break_up_words(str):\n",
    "    return re.sub(r'[^\\w\\]', '', str.lower()).split()\n",
    "\n",
    "break_up_words(\"Hello, this is a sentence I am trying to tokenize.\")"
   ]
  },
  {
   "cell_type": "markdown",
   "id": "e40b7bdb02f78ecf",
   "metadata": {},
   "source": [
    "This one is broken too that attemtps to find URLs in a document. What is the error?"
   ]
  },
  {
   "cell_type": "code",
   "execution_count": null,
   "id": "39e8cf1b80f4ac8b",
   "metadata": {},
   "outputs": [],
   "source": [
    "import re\n",
    "\n",
    "web_pattern = re.compile(r'(https?://)?(www\\.)?([a-z0-9}+)\\.(com|org|gov)')\n",
    "\n",
    "\n",
    "urls = \"\"\"\n",
    "Here are a few websites below:\n",
    "\n",
    "https://www.yawmanflight.com\n",
    "http://microsoft.com\n",
    "https://youtube.com\n",
    "https://www.anaconda.com\n",
    "\n",
    "These are non-commercial sites:\n",
    "https://www.python.org\n",
    "https://whitehouse.gov\n",
    "\"\"\"\n",
    "\n",
    "matches = web_pattern.finditer(urls)\n",
    "\n",
    "for match in matches:\n",
    "    print(match[0])"
   ]
  },
  {
   "cell_type": "markdown",
   "id": "1d87daac5921f770",
   "metadata": {},
   "source": [
    "## SQL Syntax Errors\n"
   ]
  },
  {
   "cell_type": "markdown",
   "id": "34289f1cf5ab5ab6",
   "metadata": {},
   "source": [
    "Let's download a SQLite file from Github so we can connect to it and query the data inside."
   ]
  },
  {
   "cell_type": "code",
   "execution_count": null,
   "id": "9ffcb64de8fcacb7",
   "metadata": {},
   "outputs": [],
   "source": [
    "import requests\n",
    "open(\"company_operations.db\", \"wb\") \\\n",
    "    .write(requests.get(\"https://github.com/thomasnield/anaconda_intro_to_sql/raw/refs/heads/main/company_operations.db\").content)"
   ]
  },
  {
   "cell_type": "markdown",
   "id": "fc78237f20b03ec6",
   "metadata": {},
   "source": [
    "No gotchas there. Let's establish the connection."
   ]
  },
  {
   "cell_type": "code",
   "execution_count": null,
   "id": "7a5e394580a2e2c7",
   "metadata": {},
   "outputs": [],
   "source": [
    "import sqlite3\n",
    "\n",
    "conn = sqlite3.conn(\"company_operations.db\")"
   ]
  },
  {
   "cell_type": "markdown",
   "id": "ff2d7d5c18f6a2bb",
   "metadata": {},
   "source": [
    "Now that we fixed that connection issue, let's get all records from the `CUSTOMER` table."
   ]
  },
  {
   "cell_type": "code",
   "execution_count": null,
   "id": "d7d728a871e9502",
   "metadata": {},
   "outputs": [],
   "source": [
    "import pandas as pd\n",
    "\n",
    "pd.read_sql(\"SELECT ALL FROM CUSTOMER\", conn)"
   ]
  },
  {
   "cell_type": "markdown",
   "id": "793cbd0b65e9365c",
   "metadata": {},
   "source": [
    "Okay, hopefully no more issues. Let's select some of the fields."
   ]
  },
  {
   "cell_type": "code",
   "execution_count": null,
   "id": "20c7ea9a6b694a2f",
   "metadata": {},
   "outputs": [],
   "source": [
    "import pandas as pd\n",
    "\n",
    "pd.read_sql(\"SELECT CUSTOMER_NAME, ADDRESS, CITY, STATE, ZIP, FROM CUSTOMER\", conn)"
   ]
  },
  {
   "cell_type": "markdown",
   "id": "8b45d2f084dac78e",
   "metadata": {},
   "source": [
    "I remember seeing a query on Microsoft SQL Server that allows me to retrieve a single record. Let's investigate why this one doesn't work."
   ]
  },
  {
   "cell_type": "code",
   "execution_count": null,
   "id": "3255b7a79a0b82",
   "metadata": {},
   "outputs": [],
   "source": [
    "import pandas as pd\n",
    "\n",
    "pd.read_sql(\"SELECT TOP 1 * FROM CUSTOMER\", conn)"
   ]
  },
  {
   "cell_type": "markdown",
   "id": "91f7beca1a1e9db1",
   "metadata": {},
   "source": [
    "## JSON\n"
   ]
  },
  {
   "cell_type": "markdown",
   "id": "bb48ab69c74ba848",
   "metadata": {},
   "source": [
    "Let's say we are loading up some JSON in Python, but we keep getting error? How do we troubleshoot it?"
   ]
  },
  {
   "cell_type": "code",
   "execution_count": null,
   "id": "6ed45e0eda9fe9c9",
   "metadata": {},
   "outputs": [],
   "source": [
    "import json\n",
    "\n",
    "some_json = \"\"\"\n",
    "{\n",
    "  \"user\": {\n",
    "    \"id\": 1024,\n",
    "    \"name\": \"Alice\",\n",
    "    \"email\": \"alice@example.com\"\n",
    "    \"signup_date\": \"2025-08-14T10:23:00Z\",\n",
    "    \"preferences\": {\n",
    "      \"newsletter\": true,\n",
    "      \"theme\": \"dark\"\n",
    "    },\n",
    "    \"last_login\": \"2025-08-14T15:42:00Z\",  // last login timestamp\n",
    "  }\n",
    "}\n",
    "\"\"\"\n",
    "\n",
    "data = json.loads(some_json)\n",
    "data\n"
   ]
  },
  {
   "cell_type": "markdown",
   "id": "97f1e58be3ca1229",
   "metadata": {},
   "source": [
    "## EXERCISE"
   ]
  },
  {
   "cell_type": "markdown",
   "id": "a9028b680a150a6b",
   "metadata": {},
   "source": [
    "Find the error in this XML code below, so Python can read it and iterate the books in it."
   ]
  },
  {
   "cell_type": "code",
   "execution_count": null,
   "id": "a855a21d843c34c9",
   "metadata": {},
   "outputs": [],
   "source": [
    "import xml.etree.ElementTree as ET\n",
    "from xml.etree.ElementTree import ParseError\n",
    "\n",
    "# Sample broken XML as a string\n",
    "my_xml = \"\"\"<?xml version=\"1.0\" encoding=\"UTF-8\"?>\n",
    "<library>\n",
    "    <book>\n",
    "        <title>The Great Gatsby</title>\n",
    "        <author>F. Scott Fitzgerald</author>\n",
    "    <book>\n",
    "    <book>\n",
    "        <title>1984</title>\n",
    "        <author>George Orwell</author>\n",
    "    </book>\n",
    "/library>\n",
    "\"\"\"\n",
    "\n",
    "try:\n",
    "    # Attempt to parse the XML string\n",
    "    root = ET.fromstring(my_xml)\n",
    "    # If parsing succeeds, print the titles\n",
    "    for book in root.findall('book'):\n",
    "        title = book.find('title').text\n",
    "        print(f\"Book title: {title}\")\n",
    "except ParseError as e:\n",
    "    # Handle the parsing error\n",
    "    print(f\"Failed to parse XML: {e}\")"
   ]
  },
  {
   "cell_type": "markdown",
   "id": "10fd1d940a6af30d",
   "metadata": {},
   "source": [
    "### SCROLL DOWN FOR ANSWER\n",
    "|<br>\n",
    "|<br>\n",
    "|<br>\n",
    "|<br>\n",
    "|<br>\n",
    "|<br>\n",
    "|<br>\n",
    "|<br>\n",
    "|<br>\n",
    "|<br>\n",
    "|<br>\n",
    "|<br>\n",
    "|<br>\n",
    "|<br>\n",
    "|<br>\n",
    "|<br>\n",
    "|<br>\n",
    "|<br>\n",
    "|<br>\n",
    "|<br>\n",
    "|<br>\n",
    "|<br>\n",
    "|<br>\n",
    "v"
   ]
  },
  {
   "cell_type": "code",
   "execution_count": null,
   "id": "39f1d78143233f1c",
   "metadata": {},
   "outputs": [],
   "source": [
    "import xml.etree.ElementTree as ET\n",
    "from xml.etree.ElementTree import ParseError\n",
    "\n",
    "# Sample broken XML as a string\n",
    "my_xml = \"\"\"<?xml version=\"1.0\" encoding=\"UTF-8\"?>\n",
    "<library>\n",
    "    <book>\n",
    "        <title>The Great Gatsby</title>\n",
    "        <author>F. Scott Fitzgerald</author>\n",
    "    </book>\n",
    "    <book>\n",
    "        <title>1984</title>\n",
    "        <author>George Orwell</author>\n",
    "    </book>\n",
    "</library>\n",
    "\"\"\"\n",
    "\n",
    "try:\n",
    "    # Attempt to parse the XML string\n",
    "    root = ET.fromstring(my_xml)\n",
    "    # If parsing succeeds, print the titles\n",
    "    for book in root.findall('book'):\n",
    "        title = book.find('title').text\n",
    "        print(f\"Book title: {title}\")\n",
    "except ParseError as e:\n",
    "    # Handle the parsing error\n",
    "    print(f\"Failed to parse XML: {e}\")"
   ]
  }
 ],
 "metadata": {
  "kernelspec": {
   "display_name": "Python 3 (ipykernel)",
   "language": "python",
   "name": "python3"
  },
  "language_info": {
   "codemirror_mode": {
    "name": "ipython",
    "version": 3
   },
   "file_extension": ".py",
   "mimetype": "text/x-python",
   "name": "python",
   "nbconvert_exporter": "python",
   "pygments_lexer": "ipython3",
   "version": "3.13.5"
  }
 },
 "nbformat": 4,
 "nbformat_minor": 5
}

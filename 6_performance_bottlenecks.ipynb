{
 "cells": [
  {
   "metadata": {},
   "cell_type": "markdown",
   "source": "# Performance Bottlenecks",
   "id": "884670690304765c"
  },
  {
   "metadata": {},
   "cell_type": "markdown",
   "source": "Let's look at examples of how AI can help us identify performance bottlenecks.",
   "id": "dccda1be0cc24891"
  },
  {
   "metadata": {},
   "cell_type": "markdown",
   "source": "## Naive Distinct Value Tracking",
   "id": "2af3db4426314b6"
  },
  {
   "metadata": {
    "ExecuteTime": {
     "end_time": "2025-08-25T12:18:40.558762Z",
     "start_time": "2025-08-25T12:18:40.515032Z"
    }
   },
   "cell_type": "code",
   "source": [
    "import time  # Import time module for measuring execution time\n",
    "import random  # Import random module for generating random numbers\n",
    "\n",
    "def process_ids(ids):\n",
    "    # Process a list of IDs to identify unique IDs and count duplicates.\n",
    "    unique_ids = []  # Initialize an empty list to store unique IDs\n",
    "    duplicates = 0  # Initialize a counter for duplicates\n",
    "    for id_val in ids:  # Iterate over each ID in the input list\n",
    "        if id_val in unique_ids:  # Check if the ID is already in the unique list\n",
    "            duplicates += 1  # If yes, increment the duplicate count\n",
    "        else:  # If not, it's a new unique ID\n",
    "            unique_ids.append(id_val)  # Add it to the unique list\n",
    "    return unique_ids, duplicates  # Return the unique IDs list and duplicate count\n",
    "\n",
    "# Simulate 100,000 IDs with some duplicates\n",
    "random.seed(42)  # Set a fixed seed for reproducibility of random numbers\n",
    "ids = [random.randint(1, 100000) for _ in range(100000)]  # Generate a list of 100,000 random integers between 1 and 100,000\n",
    "\n",
    "start_time = time.time()  # Record the start time before processing\n",
    "unique, dups = process_ids(ids)  # Call the function to process the IDs and get unique IDs and duplicate count\n",
    "end_time = time.time()  # Record the end time after processing\n",
    "\n",
    "# Print the results, including the number of unique IDs, duplicates, and execution time formatted to 2 decimal places\n",
    "print(f\"Found {len(unique)} unique IDs and {dups} duplicates in {end_time - start_time:.2f} seconds\")"
   ],
   "id": "34da7ae64cc3647d",
   "outputs": [
    {
     "name": "stdout",
     "output_type": "stream",
     "text": [
      "Found 63054 unique IDs and 36946 duplicates in 0.00 seconds\n"
     ]
    }
   ],
   "execution_count": 57
  },
  {
   "metadata": {},
   "cell_type": "markdown",
   "source": [
    "<div style=\"text-align:center; font-size:48px; line-height:1.2;\">\n",
    "|<br>\n",
    "|<br>\n",
    "|<br>\n",
    "↓\n",
    "</div>\n"
   ],
   "id": "373e786f0999e121"
  },
  {
   "metadata": {},
   "cell_type": "markdown",
   "source": "Note when I got an AI-generated recommendation, it made some unnecessary code.",
   "id": "a759360453ad9694"
  },
  {
   "metadata": {
    "ExecuteTime": {
     "end_time": "2025-08-25T12:17:54.580803Z",
     "start_time": "2025-08-25T12:17:54.533786Z"
    }
   },
   "cell_type": "code",
   "source": [
    "import time\n",
    "import random\n",
    "\n",
    "def process_ids(ids):\n",
    "    seen_ids = set()\n",
    "    unique_ids = []\n",
    "    duplicates = 0\n",
    "    for id_val in ids:\n",
    "        if id_val in seen_ids:  # Efficient O(1) lookup on set\n",
    "            duplicates += 1\n",
    "        else:\n",
    "            seen_ids.add(id_val)\n",
    "            unique_ids.append(id_val)  # Maintain order if needed\n",
    "    return unique_ids, duplicates\n",
    "\n",
    "# Simulate 100,000 IDs with some duplicates\n",
    "random.seed(42)\n",
    "ids = [random.randint(1, 100000) for _ in range(100000)]\n",
    "\n",
    "start_time = time.time()\n",
    "unique, dups = process_ids(ids)\n",
    "end_time = time.time()\n",
    "\n",
    "print(f\"Found {len(unique)} unique IDs and {dups} duplicates in {end_time - start_time:.2f} seconds\")\n",
    "\n"
   ],
   "id": "65f36b78a4d80d70",
   "outputs": [
    {
     "name": "stdout",
     "output_type": "stream",
     "text": [
      "Found 63054 unique IDs and 36946 duplicates in 0.00 seconds\n"
     ]
    }
   ],
   "execution_count": 56
  },
  {
   "metadata": {},
   "cell_type": "markdown",
   "source": "The `seen_ids` list was completely redundant to the `seen_ids`. It was better I make a modificiation to remove it.",
   "id": "9506254c69034fb4"
  },
  {
   "metadata": {},
   "cell_type": "code",
   "source": [
    "import time\n",
    "import random\n",
    "\n",
    "def process_ids(ids):\n",
    "    unique_ids = set()\n",
    "    duplicates = 0\n",
    "    for id_val in ids:\n",
    "        if id_val in unique_ids:  # Efficient O(1) lookup on set\n",
    "            duplicates += 1\n",
    "        else:\n",
    "            unique_ids.add(id_val)\n",
    "    return unique_ids, duplicates\n",
    "\n",
    "# Simulate 100,000 IDs with some duplicates\n",
    "random.seed(42)\n",
    "ids = [random.randint(1, 100000) for _ in range(100000)]\n",
    "\n",
    "start_time = time.time()\n",
    "unique, dups = process_ids(ids)\n",
    "end_time = time.time()\n",
    "\n",
    "print(f\"Found {len(unique)} unique IDs and {dups} duplicates in {end_time - start_time:.2f} seconds\")\n"
   ],
   "id": "461eb592a556afe",
   "outputs": [],
   "execution_count": null
  },
  {
   "metadata": {},
   "cell_type": "markdown",
   "source": "## Nested Loop Bottlenecks",
   "id": "6857407f333d51a"
  },
  {
   "metadata": {},
   "cell_type": "markdown",
   "source": "This one is gnarly, and it's complex and slow. It captures active users with valid emails from a list.",
   "id": "3f7f4660a488fe91"
  },
  {
   "metadata": {
    "collapsed": true,
    "ExecuteTime": {
     "end_time": "2025-08-25T12:24:51.821121Z",
     "start_time": "2025-08-25T12:24:36.622514Z"
    }
   },
   "cell_type": "code",
   "source": [
    "import time\n",
    "\n",
    "def process_users(user_data):\n",
    "    # Process a list of user data to filter and transform active users with valid emails,\n",
    "    # ensuring no duplicate emails are included in the result.\n",
    "\n",
    "    filtered_users = []  # Initialize an empty list to store processed unique users\n",
    "\n",
    "    for user in user_data:  # Iterate over each user dictionary in the input list\n",
    "        # Extract relevant fields for clarity and checks\n",
    "        email = user['email']  # Get the user's email\n",
    "        is_active = user['active']  # Get the user's active status (boolean)\n",
    "\n",
    "        # Validate if the user is active and the email contains '@' as a simple check for validity\n",
    "        if is_active and '@' in email:\n",
    "            # Check for duplicates by iterating through already filtered users\n",
    "            for existing_user in filtered_users:\n",
    "                if existing_user['email'] == email:  # Compare emails to detect duplicates\n",
    "                    break  # If a duplicate is found, skip adding this user\n",
    "            else:  # This else clause executes only if no break occurred (no duplicate found)\n",
    "                # Create a new processed user dictionary\n",
    "                processed_user = {\n",
    "                    'email': email.lower() + '_processed',  # Lowercase the email and append '_processed'\n",
    "                    'name': user['name'].upper(),  # Uppercase the user's name\n",
    "                    'id': str(user['id'])  # Convert the ID to a string\n",
    "                }\n",
    "                filtered_users.append(processed_user)  # Add the processed user to the list\n",
    "\n",
    "    return filtered_users  # Return the list of processed unique users\n",
    "\n",
    "\n",
    "# Simulate a large dataset of 100,000 users for testing\n",
    "# Each user has an ID from 0 to 99999, an email like 'userX@example.com',\n",
    "# a name like 'User X', and active status alternating (even IDs are active)\n",
    "users = [\n",
    "    {'id': i, 'email': f'user{i}@example.com', 'name': f'User {i}', 'active': i % 2 == 0}\n",
    "    for i in range(100000)\n",
    "]\n",
    "\n",
    "start = time.time()\n",
    "# Process the simulated users using the function\n",
    "result = process_users(users)\n",
    "end = time.time()\n",
    "\n",
    "# Print the number of processed users (should be half of 100,000 since only even IDs are active, and no duplicates)\n",
    "print(f\"Processed {len(result)} users in {end - start:.4f} seconds\")"
   ],
   "id": "178bcd8f794eff1d",
   "outputs": [
    {
     "name": "stdout",
     "output_type": "stream",
     "text": [
      "Processed 50000 users\n"
     ]
    }
   ],
   "execution_count": 58
  },
  {
   "metadata": {},
   "cell_type": "markdown",
   "source": [
    "<div style=\"text-align:center; font-size:48px; line-height:1.2;\">\n",
    "|<br>\n",
    "|<br>\n",
    "|<br>\n",
    "↓\n",
    "</div>\n"
   ],
   "id": "cc54812f8e44837b"
  },
  {
   "metadata": {},
   "cell_type": "markdown",
   "source": "We can simplify this a lot.",
   "id": "f3abed922b372db1"
  },
  {
   "metadata": {
    "ExecuteTime": {
     "end_time": "2025-08-25T12:25:20.325752Z",
     "start_time": "2025-08-25T12:25:20.271584Z"
    }
   },
   "cell_type": "code",
   "source": [
    "import re\n",
    "import time\n",
    "\n",
    "def process_users(user_data):\n",
    "    filtered_users = []\n",
    "    seen_emails = set()  # Track duplicates\n",
    "\n",
    "    for user in user_data:\n",
    "        email = user['email']\n",
    "        if user['active'] and '@' in email and email not in seen_emails:\n",
    "            processed_user = {\n",
    "                'email': email.lower() + '_processed',\n",
    "                'name': user['name'].upper(),\n",
    "                'id': str(user['id'])\n",
    "            }\n",
    "            filtered_users.append(processed_user)\n",
    "            seen_emails.add(email)  # Mark as seen\n",
    "\n",
    "    return filtered_users\n",
    "\n",
    "\n",
    "# Simulate a large dataset\n",
    "users = [\n",
    "    {'id': i, 'email': f'user{i}@example.com', 'name': f'User {i}', 'active': i % 2 == 0}\n",
    "    for i in range(100000)\n",
    "]\n",
    "\n",
    "\n",
    "start = time.time()\n",
    "# Process the simulated users using the function\n",
    "result = process_users(users)\n",
    "end = time.time()\n",
    "\n",
    "# Print the number of processed users (should be half of 100,000 since only even IDs are active, and no duplicates)\n",
    "print(f\"Processed {len(result)} users in {end - start:.4f} seconds\")\n"
   ],
   "id": "c556b8175791e33b",
   "outputs": [
    {
     "name": "stdout",
     "output_type": "stream",
     "text": [
      "Processed 50000 users\n"
     ]
    }
   ],
   "execution_count": 59
  },
  {
   "metadata": {},
   "cell_type": "markdown",
   "source": "## SQL Optimization",
   "id": "a74ada28c5600944"
  },
  {
   "metadata": {},
   "cell_type": "markdown",
   "source": "Let's start with a common mistake that is easy to do in Python SQL. Let's say I want to insert the next 10_000 dates into a `CALENDAR` table that is a single column of dates. Why is this so slow?",
   "id": "ea350f89841f0e21"
  },
  {
   "metadata": {
    "ExecuteTime": {
     "end_time": "2025-08-25T00:10:32.682449Z",
     "start_time": "2025-08-25T00:10:30.503141Z"
    }
   },
   "cell_type": "code",
   "source": [
    "import sqlite3\n",
    "import time\n",
    "\n",
    "start = time.time()\n",
    "\n",
    "for _ in range(10_000):\n",
    "    conn = sqlite3.connect(\"company_operations.db\")\n",
    "    cursor = conn.cursor()\n",
    "    cursor.execute(\"\"\"INSERT INTO CALENDAR (CALENDAR_DATE) VALUES\n",
    "                   ((SELECT DATE(MAX(CALENDAR_DATE),'+1 day') FROM CALENDAR))\n",
    "                   \"\"\")\n",
    "    conn.commit()\n",
    "    cursor.close()\n",
    "    conn.close()\n",
    "\n",
    "end = time.end()\n",
    "\n",
    "print(f\"Finished in {end - start:.4f} seconds\")"
   ],
   "id": "688239a154939545",
   "outputs": [],
   "execution_count": 42
  },
  {
   "metadata": {},
   "cell_type": "markdown",
   "source": "Let's pretend for a moment that this SQL query below took a very long time and the table is quite large in number of records. Let's see what it recommends.",
   "id": "ee94f0154de942a3"
  },
  {
   "metadata": {
    "ExecuteTime": {
     "end_time": "2025-08-25T12:29:50.496547Z",
     "start_time": "2025-08-25T12:29:50.481561Z"
    }
   },
   "cell_type": "code",
   "source": [
    "import pandas as pd\n",
    "import sqlite3\n",
    "import time\n",
    "\n",
    "conn = sqlite3.connect(\"company_operations.db\")\n",
    "\n",
    "sql = \"\"\"\n",
    "SELECT * FROM WEATHER_MONITOR\n",
    "WHERE REPORT_DATE = '2021-05-05'\n",
    "\"\"\"\n",
    "\n",
    "start = time.time()\n",
    "pd.read_sql(sql, conn)\n",
    "end = time.time()\n",
    "print(f\"Query took {end - start:.4f} seconds\")\n",
    "\n",
    "conn.close()"
   ],
   "id": "d97a7b15ba0d9426",
   "outputs": [
    {
     "name": "stdout",
     "output_type": "stream",
     "text": [
      "Query took 0.0124 seconds\n"
     ]
    }
   ],
   "execution_count": 62
  },
  {
   "metadata": {},
   "cell_type": "markdown",
   "source": [
    "But keep in mind, if the AI recommends an index and other solutions, there are gotchas like write speed going down substantially. These are nuances that you cannot pick up from vibe coding, and is why you should know the subject matter you are prompting.\n",
    "\n",
    "Here is another example. Let's try to optimize this query."
   ],
   "id": "129ff16fcff73e01"
  },
  {
   "metadata": {},
   "cell_type": "code",
   "source": [
    "import pandas as pd\n",
    "import sqlite3\n",
    "import time\n",
    "\n",
    "conn = sqlite3.connect(\"company_operations.db\")\n",
    "\n",
    "sql = \"\"\"\n",
    "SELECT\n",
    "CUSTOMER_ID,\n",
    "ORDER_DATE,\n",
    "QUANTITY,\n",
    "(SELECT AVG(QUANTITY)\n",
    " FROM CUSTOMER_ORDER co3\n",
    " WHERE co3.CUSTOMER_ID = co1.CUSTOMER_ID) as avg_customer_quantity\n",
    "FROM CUSTOMER_ORDER co1\n",
    "ORDER BY ORDER_DATE\n",
    "\"\"\"\n",
    "\n",
    "start = time.time()\n",
    "pd.read_sql(sql, conn)\n",
    "end = time.time()\n",
    "print(f\"Query took {end - start:.4f} seconds\")"
   ],
   "id": "b64d096294d4a10f",
   "outputs": [],
   "execution_count": null
  },
  {
   "metadata": {},
   "cell_type": "markdown",
   "source": "Ideally, we'd like to get a windowing function once the AI recommends a fix. But it may settle for a common table expression or derived table too. This again shows that the AI may propose something that works but may be suboptimal.",
   "id": "c8dce14e27b5673"
  },
  {
   "metadata": {},
   "cell_type": "markdown",
   "source": "## Vectorization",
   "id": "f9a4ef06c9e8d019"
  },
  {
   "metadata": {},
   "cell_type": "markdown",
   "source": [
    "Let's see how we can have AI convert our code to be vectorized for numerical operations. This will make our code much faster and help us learn NumPy equivalents to vanilla python loop operations.\n",
    "\n",
    "Here is a simple summation of the numbers 1 through 300 million. It takes nearly 10 seconds to do. Let's see how AI suggests we fix it."
   ],
   "id": "b8a5b0a4ec8d2bcb"
  },
  {
   "metadata": {},
   "cell_type": "code",
   "source": [
    "import time\n",
    "start = time.time()\n",
    "\n",
    "total = 0\n",
    "for i in range(300_000_000):\n",
    "    total += i\n",
    "\n",
    "end = time.time()\n",
    "print(f\"Total: {total} in {end - start:.4f} seconds\")"
   ],
   "id": "a6143393305aad24",
   "outputs": [],
   "execution_count": null
  },
  {
   "metadata": {},
   "cell_type": "markdown",
   "source": [
    "<div style=\"text-align:center; font-size:48px; line-height:1.2;\">\n",
    "|<br>\n",
    "|<br>\n",
    "|<br>\n",
    "↓\n",
    "</div>\n",
    "\n",
    "\n",
    "Here is what ChatGPT suggested I do. It takes less than a second."
   ],
   "id": "aa462ccdf7bccb9b"
  },
  {
   "metadata": {},
   "cell_type": "code",
   "source": [
    "import numpy as np\n",
    "import time\n",
    "\n",
    "start = time.time()\n",
    "total = np.sum(np.arange(300_000_000))\n",
    "end = time.time()\n",
    "\n",
    "print(f\"Total: {total} in {end - start:.4f} seconds\")"
   ],
   "id": "5decf99c31e94e4e",
   "outputs": [],
   "execution_count": null
  },
  {
   "metadata": {},
   "cell_type": "markdown",
   "source": "Calculating this average took nearly 7 seconds.",
   "id": "4241c32629c1346"
  },
  {
   "metadata": {},
   "cell_type": "code",
   "source": [
    "import time\n",
    "\n",
    "start = time.time()\n",
    "\n",
    "x = [i for i in range(300_000_000)]\n",
    "\n",
    "mean = sum(x) / len(x)\n",
    "\n",
    "end = time.time()\n",
    "\n",
    "print(f\"Mean: {mean} in {end - start:.4f} seconds\")"
   ],
   "id": "92d3ad61581fbc41",
   "outputs": [],
   "execution_count": null
  },
  {
   "metadata": {},
   "cell_type": "markdown",
   "source": [
    "<div style=\"text-align:center; font-size:48px; line-height:1.2;\">\n",
    "|<br>\n",
    "|<br>\n",
    "|<br>\n",
    "↓\n",
    "</div>\n",
    "Below, the AI-generated response took less than half a second."
   ],
   "id": "cb8c483111f13467"
  },
  {
   "metadata": {},
   "cell_type": "code",
   "source": [
    "import numpy as np\n",
    "import time\n",
    "\n",
    "start = time.time()\n",
    "x = np.arange(300_000_000)\n",
    "mean = np.mean(x)\n",
    "end = time.time()\n",
    "\n",
    "print(f\"Mean: {mean} in {end - start:.4f} seconds\")"
   ],
   "id": "d28256dfef19f8fd",
   "outputs": [],
   "execution_count": null
  },
  {
   "metadata": {},
   "cell_type": "markdown",
   "source": "Now here is something painful. This operation takes nearly 30 seconds.",
   "id": "cd1605fa6fcac136"
  },
  {
   "metadata": {},
   "cell_type": "code",
   "source": [
    "import time\n",
    "\n",
    "start = time.time()\n",
    "\n",
    "x = list(range(300_000_000))\n",
    "y = list(range(300_000_000))\n",
    "z = []\n",
    "for i in range(len(x)):\n",
    "    z.append(x[i] + y[i])\n",
    "\n",
    "end = time.time()\n",
    "\n",
    "print(f\"Finished in {end - start:.4f} seconds\")"
   ],
   "id": "6391de5ecc9ecc7",
   "outputs": [],
   "execution_count": null
  },
  {
   "metadata": {},
   "cell_type": "markdown",
   "source": [
    "<div style=\"text-align:center; font-size:48px; line-height:1.2;\">\n",
    "|<br>\n",
    "|<br>\n",
    "|<br>\n",
    "↓\n",
    "</div>\n",
    "\n",
    "But the AI-generated optimization takes less than 10 seconds."
   ],
   "id": "4998d587712677ea"
  },
  {
   "metadata": {},
   "cell_type": "code",
   "source": [
    "import numpy as np\n",
    "import time\n",
    "\n",
    "start = time.time()\n",
    "x = np.arange(300_000_000)\n",
    "y = np.arange(300_000_000)\n",
    "z = x + y\n",
    "end = time.time()\n",
    "\n",
    "print(f\"Finished in {end - start:.4f} seconds\")"
   ],
   "id": "f8b84d062116c956",
   "outputs": [],
   "execution_count": null
  },
  {
   "metadata": {},
   "cell_type": "markdown",
   "source": "Here we try to calculate mean, varaince, standard deviation from a list of numbers to normalize the data.",
   "id": "a56b82a571e9025"
  },
  {
   "metadata": {
    "ExecuteTime": {
     "end_time": "2025-08-25T12:32:28.122712Z",
     "start_time": "2025-08-25T12:32:27.998697Z"
    }
   },
   "cell_type": "code",
   "source": [
    "import math\n",
    "import time\n",
    "\n",
    "start = time.time()\n",
    "data = [i * 0.1 for i in range(1_000_000)]  # Simulated dataset\n",
    "mean = sum(data) / len(data)\n",
    "variance = sum((x - mean) ** 2 for x in data) / len(data)\n",
    "std_dev = math.sqrt(variance)\n",
    "normalized = []\n",
    "for val in data:\n",
    "    normalized.append((val - mean) / std_dev)\n",
    "\n",
    "end = time.time()\n",
    "\n",
    "print(f\"Finished in {end - start:.4f} seconds\")"
   ],
   "id": "5e37d0efece2a151",
   "outputs": [],
   "execution_count": 63
  },
  {
   "metadata": {},
   "cell_type": "markdown",
   "source": [
    "<div style=\"text-align:center; font-size:48px; line-height:1.2;\">\n",
    "|<br>\n",
    "|<br>\n",
    "|<br>\n",
    "↓\n",
    "</div>\n"
   ],
   "id": "3e05a643a7149ab"
  },
  {
   "metadata": {
    "ExecuteTime": {
     "end_time": "2025-08-25T12:32:30.675246Z",
     "start_time": "2025-08-25T12:32:30.652636Z"
    }
   },
   "cell_type": "code",
   "source": [
    "import numpy as np\n",
    "import time\n",
    "\n",
    "start = time.time()\n",
    "data = np.arange(1_000_000) * 0.1  # Simulated dataset\n",
    "normalized = (data - np.mean(data)) / np.std(data)\n",
    "end = time.time()\n",
    "\n",
    "print(f\"Finished in {end - start:.4f} seconds\")"
   ],
   "id": "f211bf7435b6e75a",
   "outputs": [],
   "execution_count": 64
  },
  {
   "metadata": {},
   "cell_type": "markdown",
   "source": "## Computing Pairwise Euclidean Distances for Clustering",
   "id": "2135a580f4010116"
  },
  {
   "metadata": {},
   "cell_type": "code",
   "source": [
    "import math\n",
    "import time\n",
    "\n",
    "start = time.time()\n",
    "points = [[i, i+1] for i in range(10_000)]  # List of [x, y] points\n",
    "distances = []\n",
    "for i in range(len(points)):\n",
    "    row = []\n",
    "    for j in range(len(points)):\n",
    "        dx = points[i][0] - points[j][0]\n",
    "        dy = points[i][1] - points[j][1]\n",
    "        row.append(math.sqrt(dx**2 + dy**2))\n",
    "    distances.append(row)\n",
    "\n",
    "end = time.time()\n",
    "\n",
    "print(\"Finished in {:.4f} seconds\".format(end - start))"
   ],
   "id": "9ec47def21126a81",
   "outputs": [],
   "execution_count": null
  },
  {
   "metadata": {},
   "cell_type": "markdown",
   "source": [
    "<div style=\"text-align:center; font-size:48px; line-height:1.2;\">\n",
    "|<br>\n",
    "|<br>\n",
    "|<br>\n",
    "↓\n",
    "</div>"
   ],
   "id": "663383571228ae25"
  },
  {
   "metadata": {},
   "cell_type": "code",
   "source": [
    "import numpy as np\n",
    "import time\n",
    "\n",
    "start = time.time()\n",
    "points = np.arange(10_000)[:, np.newaxis] * np.array([1, 1]) + np.array([0, 1])  # Array of shape (10000, 2)\n",
    "diffs = points[:, np.newaxis, :] - points[np.newaxis, :, :]\n",
    "distances = np.sqrt(np.sum(diffs**2, axis=-1))\n",
    "end = time.time()\n",
    "\n",
    "print(\"Finished in {:.4f} seconds\".format(end - start))\n",
    "# Alternatively, for even faster: use scipy.spatial.distance.cdist(points, points)"
   ],
   "id": "87085c853049f973",
   "outputs": [],
   "execution_count": null
  },
  {
   "metadata": {},
   "cell_type": "markdown",
   "source": [
    "## EXERCISE\n",
    "\n",
    "Try to speed up this time series operation below."
   ],
   "id": "ccdb329a0ad0e7bd"
  },
  {
   "metadata": {
    "ExecuteTime": {
     "end_time": "2025-08-25T12:41:31.516005Z",
     "start_time": "2025-08-25T12:41:30.746151Z"
    }
   },
   "cell_type": "code",
   "source": [
    "import time\n",
    "\n",
    "start = time.time()\n",
    "prices = [i * 0.01 for i in range(10_000_000)]  # Time-series prices\n",
    "volumes = [i % 1000 for i in range(10_000_000)]  # Volumes\n",
    "high_volume_prices = []\n",
    "for i in range(len(prices)):\n",
    "    if volumes[i] > 500:\n",
    "        high_volume_prices.append(prices[i])\n",
    "avg_price = sum(high_volume_prices) / len(high_volume_prices) if high_volume_prices else 0\n",
    "end = time.time()\n",
    "\n",
    "print(\"Finished in {:.4f} seconds\".format(end - start))"
   ],
   "id": "83186b7a83382caa",
   "outputs": [
    {
     "name": "stdout",
     "output_type": "stream",
     "text": [
      "Finished in 0.7673 seconds\n"
     ]
    }
   ],
   "execution_count": 68
  },
  {
   "metadata": {},
   "cell_type": "markdown",
   "source": [
    "<div style=\"text-align:center; font-size:48px; line-height:1.2;\">\n",
    "|<br>\n",
    "|<br>\n",
    "|<br>\n",
    "↓\n",
    "</div>"
   ],
   "id": "77b71016aef7668"
  },
  {
   "metadata": {
    "ExecuteTime": {
     "end_time": "2025-08-25T12:41:33.022046Z",
     "start_time": "2025-08-25T12:41:32.874332Z"
    }
   },
   "cell_type": "code",
   "source": [
    "import numpy as np\n",
    "import time\n",
    "\n",
    "start = time.time()\n",
    "\n",
    "prices = np.arange(10_000_000) * 0.01\n",
    "volumes = np.arange(10_000_000) % 1000\n",
    "mask = volumes > 500\n",
    "high_volume_prices = prices[mask]\n",
    "avg_price = np.mean(high_volume_prices) if len(high_volume_prices) > 0 else 0\n",
    "\n",
    "end = time.time()\n",
    "\n",
    "print(\"Finished in {:.4f} seconds\".format(end - start))"
   ],
   "id": "229df3a1e1c5abac",
   "outputs": [
    {
     "name": "stdout",
     "output_type": "stream",
     "text": [
      "Finished in 0.1452 seconds\n"
     ]
    }
   ],
   "execution_count": 69
  }
 ],
 "metadata": {
  "kernelspec": {
   "display_name": "Python 3",
   "language": "python",
   "name": "python3"
  },
  "language_info": {
   "codemirror_mode": {
    "name": "ipython",
    "version": 2
   },
   "file_extension": ".py",
   "mimetype": "text/x-python",
   "name": "python",
   "nbconvert_exporter": "python",
   "pygments_lexer": "ipython2",
   "version": "2.7.6"
  }
 },
 "nbformat": 4,
 "nbformat_minor": 5
}
